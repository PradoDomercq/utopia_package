{
 "cells": [
  {
   "cell_type": "markdown",
   "id": "811bef36",
   "metadata": {},
   "source": [
    "## Runing Sensitivity and uncertainty analysis in UTOPIA using the monaco Monte Carlo framework \n",
    "#### (https://monaco.readthedocs.io/en/latest/)"
   ]
  },
  {
   "cell_type": "markdown",
   "id": "9d70f455",
   "metadata": {},
   "source": [
    "### Import the necessary libraries"
   ]
  },
  {
   "cell_type": "code",
   "execution_count": 1,
   "id": "054efe92",
   "metadata": {},
   "outputs": [
    {
     "name": "stderr",
     "output_type": "stream",
     "text": [
      "c:\\Users\\PradoDomercq\\AppData\\Local\\miniconda3\\envs\\utopia_env\\lib\\site-packages\\monaco\\dvars_sensitivity.py:18: UserWarning: Consider installing numba for better performance\n",
      "  warn(\"Consider installing numba for better performance\", UserWarning)\n"
     ]
    }
   ],
   "source": [
    "from utopia.monte_carlo.montecarlo_analysis import run_mc_analysis\n",
    "from utopia.utopia import utopiaModel\n",
    "import numpy as np\n",
    "import scipy.stats as st"
   ]
  },
  {
   "cell_type": "markdown",
   "id": "2cacec0f",
   "metadata": {},
   "source": [
    "### Load the default configuration and data from the 'data' folder.\n"
   ]
  },
  {
   "cell_type": "code",
   "execution_count": 2,
   "id": "164b0a42",
   "metadata": {},
   "outputs": [],
   "source": [
    "data_data = utopiaModel.load_json_file(\"data/default_data.json\")\n",
    "config_data = utopiaModel.load_json_file(\"data/default_config.json\")\n"
   ]
  },
  {
   "cell_type": "markdown",
   "id": "eadbbae4",
   "metadata": {},
   "source": [
    "### Define the parameter distributions for the Monte Carlo simulation.\n"
   ]
  },
  {
   "cell_type": "code",
   "execution_count": 3,
   "id": "4d8fac9e",
   "metadata": {},
   "outputs": [],
   "source": [
    "# Define the parameters that you want to sample from the input parameters included on the data loaded from the default data file and select a distribution for each parameter.\n",
    "param_distributions = {\n",
    "    \"MPdensity_kg_m3\": (\"lognorm\", {\"s\": 0.05, \"scale\": np.exp(np.log(data_data[\"MPdensity_kg_m3\"]) - (0.05**2) / 2)}),\n",
    "    \"FI\": (\"uniform\", {\"loc\": 0.0, \"scale\": 1.0}),\n",
    "    \"t_half_deg_free\": (\"lognorm\", {\"s\": 0.05, \"scale\": np.exp(np.log(data_data[\"t_half_deg_free\"]) - (0.05**2) / 2)}),\n",
    "    \"t_frag_gen_FreeSurfaceWater\": (\"lognorm\", {\"s\": 0.05, \"scale\": np.exp(np.log(data_data[\"t_frag_gen_FreeSurfaceWater\"]) - (0.05**2) / 2)})\n",
    "}"
   ]
  },
  {
   "cell_type": "code",
   "execution_count": 4,
   "id": "f0f57c19",
   "metadata": {},
   "outputs": [
    {
     "name": "stdout",
     "output_type": "stream",
     "text": [
      "Running 'UTOPIA_MC_simulation' Monte Carlo simulation with 100/100 cases...\n",
      "Drawing random samples for 4 input variables via the 'sobol_random' method... Done\n",
      "Generating cases... Done\n"
     ]
    },
    {
     "name": "stderr",
     "output_type": "stream",
     "text": [
      "Preprocessing cases: 100%|██████████| 100/100 [00:00<00:00, 6958.96 cases/s]\n",
      "Running cases:   0%|          | 0/100 [00:00<?, ? cases/s]"
     ]
    },
    {
     "name": "stdout",
     "output_type": "stream",
     "text": [
      "Running UTOPIA model with configured parameters...\n",
      "Generated model objects.\n",
      "Generated rate constants for model particles.\n",
      "Built matrix of interactions.\n",
      "Solved system of ODEs for steady state.\n"
     ]
    },
    {
     "name": "stderr",
     "output_type": "stream",
     "text": [
      "Running cases:   1%|          | 1/100 [00:02<04:43,  2.87s/ cases]"
     ]
    },
    {
     "name": "stdout",
     "output_type": "stream",
     "text": [
      "Running UTOPIA model with configured parameters...\n",
      "Generated model objects.\n",
      "Generated rate constants for model particles.\n",
      "Built matrix of interactions.\n",
      "Solved system of ODEs for steady state.\n"
     ]
    },
    {
     "name": "stderr",
     "output_type": "stream",
     "text": [
      "Running cases:   2%|▏         | 2/100 [00:05<04:37,  2.83s/ cases]"
     ]
    },
    {
     "name": "stdout",
     "output_type": "stream",
     "text": [
      "Running UTOPIA model with configured parameters...\n",
      "Generated model objects.\n",
      "Generated rate constants for model particles.\n",
      "Built matrix of interactions.\n",
      "Solved system of ODEs for steady state.\n"
     ]
    },
    {
     "name": "stderr",
     "output_type": "stream",
     "text": [
      "Running cases:   3%|▎         | 3/100 [00:08<04:38,  2.88s/ cases]"
     ]
    },
    {
     "name": "stdout",
     "output_type": "stream",
     "text": [
      "Running UTOPIA model with configured parameters...\n",
      "Generated model objects.\n",
      "Generated rate constants for model particles.\n",
      "Built matrix of interactions.\n",
      "Solved system of ODEs for steady state.\n"
     ]
    },
    {
     "name": "stderr",
     "output_type": "stream",
     "text": [
      "Running cases:   4%|▍         | 4/100 [00:11<04:33,  2.85s/ cases]"
     ]
    },
    {
     "name": "stdout",
     "output_type": "stream",
     "text": [
      "Running UTOPIA model with configured parameters...\n",
      "Generated model objects.\n",
      "Generated rate constants for model particles.\n",
      "Built matrix of interactions.\n",
      "Solved system of ODEs for steady state.\n"
     ]
    },
    {
     "name": "stderr",
     "output_type": "stream",
     "text": [
      "Running cases:   5%|▌         | 5/100 [00:14<04:38,  2.93s/ cases]"
     ]
    },
    {
     "name": "stdout",
     "output_type": "stream",
     "text": [
      "Running UTOPIA model with configured parameters...\n",
      "Generated model objects.\n",
      "Generated rate constants for model particles.\n",
      "Built matrix of interactions.\n",
      "Solved system of ODEs for steady state.\n"
     ]
    },
    {
     "name": "stderr",
     "output_type": "stream",
     "text": [
      "Running cases:   6%|▌         | 6/100 [00:17<04:29,  2.87s/ cases]"
     ]
    },
    {
     "name": "stdout",
     "output_type": "stream",
     "text": [
      "Running UTOPIA model with configured parameters...\n",
      "Generated model objects.\n",
      "Generated rate constants for model particles.\n",
      "Built matrix of interactions.\n",
      "Solved system of ODEs for steady state.\n"
     ]
    },
    {
     "name": "stderr",
     "output_type": "stream",
     "text": [
      "Running cases:   7%|▋         | 7/100 [00:20<04:24,  2.85s/ cases]"
     ]
    },
    {
     "name": "stdout",
     "output_type": "stream",
     "text": [
      "Running UTOPIA model with configured parameters...\n",
      "Generated model objects.\n",
      "Generated rate constants for model particles.\n",
      "Built matrix of interactions.\n",
      "Solved system of ODEs for steady state.\n"
     ]
    },
    {
     "name": "stderr",
     "output_type": "stream",
     "text": [
      "Running cases:   8%|▊         | 8/100 [00:22<04:20,  2.83s/ cases]"
     ]
    },
    {
     "name": "stdout",
     "output_type": "stream",
     "text": [
      "Running UTOPIA model with configured parameters...\n",
      "Generated model objects.\n",
      "Generated rate constants for model particles.\n",
      "Built matrix of interactions.\n",
      "Solved system of ODEs for steady state.\n"
     ]
    },
    {
     "name": "stderr",
     "output_type": "stream",
     "text": [
      "Running cases:   9%|▉         | 9/100 [00:25<04:18,  2.84s/ cases]"
     ]
    },
    {
     "name": "stdout",
     "output_type": "stream",
     "text": [
      "Running UTOPIA model with configured parameters...\n",
      "Generated model objects.\n",
      "Generated rate constants for model particles.\n",
      "Built matrix of interactions.\n",
      "Solved system of ODEs for steady state.\n"
     ]
    },
    {
     "name": "stderr",
     "output_type": "stream",
     "text": [
      "Running cases:  10%|█         | 10/100 [00:28<04:19,  2.88s/ cases]"
     ]
    },
    {
     "name": "stdout",
     "output_type": "stream",
     "text": [
      "Running UTOPIA model with configured parameters...\n",
      "Generated model objects.\n",
      "Generated rate constants for model particles.\n",
      "Built matrix of interactions.\n",
      "Solved system of ODEs for steady state.\n"
     ]
    },
    {
     "name": "stderr",
     "output_type": "stream",
     "text": [
      "Running cases:  11%|█         | 11/100 [00:31<04:17,  2.89s/ cases]"
     ]
    },
    {
     "name": "stdout",
     "output_type": "stream",
     "text": [
      "Running UTOPIA model with configured parameters...\n",
      "Generated model objects.\n",
      "Generated rate constants for model particles.\n",
      "Built matrix of interactions.\n",
      "Solved system of ODEs for steady state.\n"
     ]
    },
    {
     "name": "stderr",
     "output_type": "stream",
     "text": [
      "Running cases:  12%|█▏        | 12/100 [00:34<04:24,  3.01s/ cases]"
     ]
    },
    {
     "name": "stdout",
     "output_type": "stream",
     "text": [
      "Running UTOPIA model with configured parameters...\n",
      "Generated model objects.\n",
      "Generated rate constants for model particles.\n",
      "Built matrix of interactions.\n",
      "Solved system of ODEs for steady state.\n"
     ]
    },
    {
     "name": "stderr",
     "output_type": "stream",
     "text": [
      "Running cases:  13%|█▎        | 13/100 [00:38<04:37,  3.19s/ cases]"
     ]
    },
    {
     "name": "stdout",
     "output_type": "stream",
     "text": [
      "Running UTOPIA model with configured parameters...\n",
      "Generated model objects.\n",
      "Generated rate constants for model particles.\n",
      "Built matrix of interactions.\n",
      "Solved system of ODEs for steady state.\n"
     ]
    },
    {
     "name": "stderr",
     "output_type": "stream",
     "text": [
      "Running cases:  14%|█▍        | 14/100 [00:41<04:32,  3.17s/ cases]"
     ]
    },
    {
     "name": "stdout",
     "output_type": "stream",
     "text": [
      "Running UTOPIA model with configured parameters...\n",
      "Generated model objects.\n",
      "Generated rate constants for model particles.\n",
      "Built matrix of interactions.\n",
      "Solved system of ODEs for steady state.\n"
     ]
    },
    {
     "name": "stderr",
     "output_type": "stream",
     "text": [
      "Running cases:  15%|█▌        | 15/100 [00:44<04:21,  3.07s/ cases]"
     ]
    },
    {
     "name": "stdout",
     "output_type": "stream",
     "text": [
      "Running UTOPIA model with configured parameters...\n",
      "Generated model objects.\n",
      "Generated rate constants for model particles.\n",
      "Built matrix of interactions.\n",
      "Solved system of ODEs for steady state.\n"
     ]
    },
    {
     "name": "stderr",
     "output_type": "stream",
     "text": [
      "Running cases:  16%|█▌        | 16/100 [00:47<04:08,  2.95s/ cases]"
     ]
    },
    {
     "name": "stdout",
     "output_type": "stream",
     "text": [
      "Running UTOPIA model with configured parameters...\n",
      "Generated model objects.\n",
      "Generated rate constants for model particles.\n",
      "Built matrix of interactions.\n",
      "Solved system of ODEs for steady state.\n"
     ]
    },
    {
     "name": "stderr",
     "output_type": "stream",
     "text": [
      "Running cases:  17%|█▋        | 17/100 [00:49<03:57,  2.86s/ cases]"
     ]
    },
    {
     "name": "stdout",
     "output_type": "stream",
     "text": [
      "Running UTOPIA model with configured parameters...\n",
      "Generated model objects.\n",
      "Generated rate constants for model particles.\n",
      "Built matrix of interactions.\n",
      "Solved system of ODEs for steady state.\n"
     ]
    },
    {
     "name": "stderr",
     "output_type": "stream",
     "text": [
      "Running cases:  18%|█▊        | 18/100 [00:52<03:49,  2.79s/ cases]"
     ]
    },
    {
     "name": "stdout",
     "output_type": "stream",
     "text": [
      "Running UTOPIA model with configured parameters...\n",
      "Generated model objects.\n",
      "Generated rate constants for model particles.\n",
      "Built matrix of interactions.\n",
      "Solved system of ODEs for steady state.\n"
     ]
    },
    {
     "name": "stderr",
     "output_type": "stream",
     "text": [
      "Running cases:  19%|█▉        | 19/100 [00:55<03:46,  2.80s/ cases]"
     ]
    },
    {
     "name": "stdout",
     "output_type": "stream",
     "text": [
      "Running UTOPIA model with configured parameters...\n",
      "Generated model objects.\n",
      "Generated rate constants for model particles.\n",
      "Built matrix of interactions.\n",
      "Solved system of ODEs for steady state.\n"
     ]
    },
    {
     "name": "stderr",
     "output_type": "stream",
     "text": [
      "Running cases:  20%|██        | 20/100 [00:57<03:42,  2.79s/ cases]"
     ]
    },
    {
     "name": "stdout",
     "output_type": "stream",
     "text": [
      "Running UTOPIA model with configured parameters...\n",
      "Generated model objects.\n",
      "Generated rate constants for model particles.\n",
      "Built matrix of interactions.\n",
      "Solved system of ODEs for steady state.\n"
     ]
    },
    {
     "name": "stderr",
     "output_type": "stream",
     "text": [
      "Running cases:  21%|██        | 21/100 [01:00<03:32,  2.70s/ cases]"
     ]
    },
    {
     "name": "stdout",
     "output_type": "stream",
     "text": [
      "Running UTOPIA model with configured parameters...\n",
      "Generated model objects.\n",
      "Generated rate constants for model particles.\n",
      "Built matrix of interactions.\n",
      "Solved system of ODEs for steady state.\n"
     ]
    },
    {
     "name": "stderr",
     "output_type": "stream",
     "text": [
      "Running cases:  22%|██▏       | 22/100 [01:03<03:32,  2.72s/ cases]"
     ]
    },
    {
     "name": "stdout",
     "output_type": "stream",
     "text": [
      "Running UTOPIA model with configured parameters...\n",
      "Generated model objects.\n",
      "Generated rate constants for model particles.\n",
      "Built matrix of interactions.\n",
      "Solved system of ODEs for steady state.\n"
     ]
    },
    {
     "name": "stderr",
     "output_type": "stream",
     "text": [
      "Running cases:  23%|██▎       | 23/100 [01:05<03:29,  2.73s/ cases]"
     ]
    },
    {
     "name": "stdout",
     "output_type": "stream",
     "text": [
      "Running UTOPIA model with configured parameters...\n",
      "Generated model objects.\n",
      "Generated rate constants for model particles.\n",
      "Built matrix of interactions.\n",
      "Solved system of ODEs for steady state.\n"
     ]
    },
    {
     "name": "stderr",
     "output_type": "stream",
     "text": [
      "Running cases:  24%|██▍       | 24/100 [01:08<03:22,  2.67s/ cases]"
     ]
    },
    {
     "name": "stdout",
     "output_type": "stream",
     "text": [
      "Running UTOPIA model with configured parameters...\n",
      "Generated model objects.\n",
      "Generated rate constants for model particles.\n",
      "Built matrix of interactions.\n",
      "Solved system of ODEs for steady state.\n"
     ]
    },
    {
     "name": "stderr",
     "output_type": "stream",
     "text": [
      "Running cases:  25%|██▌       | 25/100 [01:11<03:19,  2.65s/ cases]"
     ]
    },
    {
     "name": "stdout",
     "output_type": "stream",
     "text": [
      "Running UTOPIA model with configured parameters...\n",
      "Generated model objects.\n",
      "Generated rate constants for model particles.\n",
      "Built matrix of interactions.\n",
      "Solved system of ODEs for steady state.\n"
     ]
    },
    {
     "name": "stderr",
     "output_type": "stream",
     "text": [
      "Running cases:  26%|██▌       | 26/100 [01:13<03:16,  2.66s/ cases]"
     ]
    },
    {
     "name": "stdout",
     "output_type": "stream",
     "text": [
      "Running UTOPIA model with configured parameters...\n",
      "Generated model objects.\n",
      "Generated rate constants for model particles.\n",
      "Built matrix of interactions.\n",
      "Solved system of ODEs for steady state.\n"
     ]
    },
    {
     "name": "stderr",
     "output_type": "stream",
     "text": [
      "Running cases:  27%|██▋       | 27/100 [01:16<03:15,  2.68s/ cases]"
     ]
    },
    {
     "name": "stdout",
     "output_type": "stream",
     "text": [
      "Running UTOPIA model with configured parameters...\n",
      "Generated model objects.\n",
      "Generated rate constants for model particles.\n",
      "Built matrix of interactions.\n",
      "Solved system of ODEs for steady state.\n"
     ]
    },
    {
     "name": "stderr",
     "output_type": "stream",
     "text": [
      "Running cases:  28%|██▊       | 28/100 [01:18<03:06,  2.60s/ cases]"
     ]
    },
    {
     "name": "stdout",
     "output_type": "stream",
     "text": [
      "Running UTOPIA model with configured parameters...\n",
      "Generated model objects.\n",
      "Generated rate constants for model particles.\n",
      "Built matrix of interactions.\n",
      "Solved system of ODEs for steady state.\n"
     ]
    },
    {
     "name": "stderr",
     "output_type": "stream",
     "text": [
      "Running cases:  29%|██▉       | 29/100 [01:21<03:08,  2.65s/ cases]"
     ]
    },
    {
     "name": "stdout",
     "output_type": "stream",
     "text": [
      "Running UTOPIA model with configured parameters...\n",
      "Generated model objects.\n",
      "Generated rate constants for model particles.\n",
      "Built matrix of interactions.\n",
      "Solved system of ODEs for steady state.\n"
     ]
    },
    {
     "name": "stderr",
     "output_type": "stream",
     "text": [
      "Running cases:  30%|███       | 30/100 [01:24<03:17,  2.82s/ cases]"
     ]
    },
    {
     "name": "stdout",
     "output_type": "stream",
     "text": [
      "Running UTOPIA model with configured parameters...\n",
      "Generated model objects.\n",
      "Generated rate constants for model particles.\n",
      "Built matrix of interactions.\n",
      "Solved system of ODEs for steady state.\n"
     ]
    },
    {
     "name": "stderr",
     "output_type": "stream",
     "text": [
      "Running cases:  31%|███       | 31/100 [01:28<03:25,  2.98s/ cases]"
     ]
    },
    {
     "name": "stdout",
     "output_type": "stream",
     "text": [
      "Running UTOPIA model with configured parameters...\n",
      "Generated model objects.\n",
      "Generated rate constants for model particles.\n",
      "Built matrix of interactions.\n",
      "Solved system of ODEs for steady state.\n"
     ]
    },
    {
     "name": "stderr",
     "output_type": "stream",
     "text": [
      "Running cases:  32%|███▏      | 32/100 [01:31<03:33,  3.14s/ cases]"
     ]
    },
    {
     "name": "stdout",
     "output_type": "stream",
     "text": [
      "Running UTOPIA model with configured parameters...\n",
      "Generated model objects.\n",
      "Generated rate constants for model particles.\n",
      "Built matrix of interactions.\n",
      "Solved system of ODEs for steady state.\n"
     ]
    },
    {
     "name": "stderr",
     "output_type": "stream",
     "text": [
      "Running cases:  33%|███▎      | 33/100 [01:35<03:34,  3.20s/ cases]"
     ]
    },
    {
     "name": "stdout",
     "output_type": "stream",
     "text": [
      "Running UTOPIA model with configured parameters...\n",
      "Generated model objects.\n",
      "Generated rate constants for model particles.\n",
      "Built matrix of interactions.\n",
      "Solved system of ODEs for steady state.\n"
     ]
    },
    {
     "name": "stderr",
     "output_type": "stream",
     "text": [
      "Running cases:  34%|███▍      | 34/100 [01:37<03:20,  3.04s/ cases]"
     ]
    },
    {
     "name": "stdout",
     "output_type": "stream",
     "text": [
      "Running UTOPIA model with configured parameters...\n",
      "Generated model objects.\n",
      "Generated rate constants for model particles.\n",
      "Built matrix of interactions.\n",
      "Solved system of ODEs for steady state.\n"
     ]
    },
    {
     "name": "stderr",
     "output_type": "stream",
     "text": [
      "Running cases:  35%|███▌      | 35/100 [01:40<03:11,  2.94s/ cases]"
     ]
    },
    {
     "name": "stdout",
     "output_type": "stream",
     "text": [
      "Running UTOPIA model with configured parameters...\n",
      "Generated model objects.\n",
      "Generated rate constants for model particles.\n",
      "Built matrix of interactions.\n",
      "Solved system of ODEs for steady state.\n"
     ]
    },
    {
     "name": "stderr",
     "output_type": "stream",
     "text": [
      "Running cases:  36%|███▌      | 36/100 [01:43<03:03,  2.86s/ cases]"
     ]
    },
    {
     "name": "stdout",
     "output_type": "stream",
     "text": [
      "Running UTOPIA model with configured parameters...\n",
      "Generated model objects.\n",
      "Generated rate constants for model particles.\n",
      "Built matrix of interactions.\n",
      "Solved system of ODEs for steady state.\n"
     ]
    },
    {
     "name": "stderr",
     "output_type": "stream",
     "text": [
      "Running cases:  37%|███▋      | 37/100 [01:45<02:56,  2.80s/ cases]"
     ]
    },
    {
     "name": "stdout",
     "output_type": "stream",
     "text": [
      "Running UTOPIA model with configured parameters...\n",
      "Generated model objects.\n",
      "Generated rate constants for model particles.\n",
      "Built matrix of interactions.\n",
      "Solved system of ODEs for steady state.\n"
     ]
    },
    {
     "name": "stderr",
     "output_type": "stream",
     "text": [
      "Running cases:  38%|███▊      | 38/100 [01:48<02:52,  2.78s/ cases]"
     ]
    },
    {
     "name": "stdout",
     "output_type": "stream",
     "text": [
      "Running UTOPIA model with configured parameters...\n",
      "Generated model objects.\n",
      "Generated rate constants for model particles.\n",
      "Built matrix of interactions.\n",
      "Solved system of ODEs for steady state.\n"
     ]
    },
    {
     "name": "stderr",
     "output_type": "stream",
     "text": [
      "Running cases:  39%|███▉      | 39/100 [01:51<02:43,  2.68s/ cases]"
     ]
    },
    {
     "name": "stdout",
     "output_type": "stream",
     "text": [
      "Running UTOPIA model with configured parameters...\n",
      "Generated model objects.\n",
      "Generated rate constants for model particles.\n",
      "Built matrix of interactions.\n",
      "Solved system of ODEs for steady state.\n"
     ]
    },
    {
     "name": "stderr",
     "output_type": "stream",
     "text": [
      "Running cases:  40%|████      | 40/100 [01:53<02:41,  2.70s/ cases]"
     ]
    },
    {
     "name": "stdout",
     "output_type": "stream",
     "text": [
      "Running UTOPIA model with configured parameters...\n",
      "Generated model objects.\n",
      "Generated rate constants for model particles.\n",
      "Built matrix of interactions.\n",
      "Solved system of ODEs for steady state.\n"
     ]
    },
    {
     "name": "stderr",
     "output_type": "stream",
     "text": [
      "Running cases:  41%|████      | 41/100 [01:56<02:33,  2.60s/ cases]"
     ]
    },
    {
     "name": "stdout",
     "output_type": "stream",
     "text": [
      "Running UTOPIA model with configured parameters...\n",
      "Generated model objects.\n",
      "Generated rate constants for model particles.\n",
      "Built matrix of interactions.\n",
      "Solved system of ODEs for steady state.\n"
     ]
    },
    {
     "name": "stderr",
     "output_type": "stream",
     "text": [
      "Running cases:  42%|████▏     | 42/100 [01:58<02:26,  2.53s/ cases]"
     ]
    },
    {
     "name": "stdout",
     "output_type": "stream",
     "text": [
      "Running UTOPIA model with configured parameters...\n",
      "Generated model objects.\n",
      "Generated rate constants for model particles.\n",
      "Built matrix of interactions.\n",
      "Solved system of ODEs for steady state.\n"
     ]
    },
    {
     "name": "stderr",
     "output_type": "stream",
     "text": [
      "Running cases:  43%|████▎     | 43/100 [02:01<02:24,  2.53s/ cases]"
     ]
    },
    {
     "name": "stdout",
     "output_type": "stream",
     "text": [
      "Running UTOPIA model with configured parameters...\n",
      "Generated model objects.\n",
      "Generated rate constants for model particles.\n",
      "Built matrix of interactions.\n",
      "Solved system of ODEs for steady state.\n"
     ]
    },
    {
     "name": "stderr",
     "output_type": "stream",
     "text": [
      "Running cases:  44%|████▍     | 44/100 [02:03<02:24,  2.59s/ cases]"
     ]
    },
    {
     "name": "stdout",
     "output_type": "stream",
     "text": [
      "Running UTOPIA model with configured parameters...\n",
      "Generated model objects.\n",
      "Generated rate constants for model particles.\n",
      "Built matrix of interactions.\n",
      "Solved system of ODEs for steady state.\n"
     ]
    },
    {
     "name": "stderr",
     "output_type": "stream",
     "text": [
      "Running cases:  45%|████▌     | 45/100 [02:06<02:22,  2.59s/ cases]"
     ]
    },
    {
     "name": "stdout",
     "output_type": "stream",
     "text": [
      "Running UTOPIA model with configured parameters...\n",
      "Generated model objects.\n",
      "Generated rate constants for model particles.\n",
      "Built matrix of interactions.\n",
      "Solved system of ODEs for steady state.\n"
     ]
    },
    {
     "name": "stderr",
     "output_type": "stream",
     "text": [
      "Running cases:  46%|████▌     | 46/100 [02:08<02:20,  2.60s/ cases]"
     ]
    },
    {
     "name": "stdout",
     "output_type": "stream",
     "text": [
      "Running UTOPIA model with configured parameters...\n",
      "Generated model objects.\n",
      "Generated rate constants for model particles.\n",
      "Built matrix of interactions.\n",
      "Solved system of ODEs for steady state.\n"
     ]
    },
    {
     "name": "stderr",
     "output_type": "stream",
     "text": [
      "Running cases:  47%|████▋     | 47/100 [02:11<02:20,  2.66s/ cases]"
     ]
    },
    {
     "name": "stdout",
     "output_type": "stream",
     "text": [
      "Running UTOPIA model with configured parameters...\n",
      "Generated model objects.\n",
      "Generated rate constants for model particles.\n",
      "Built matrix of interactions.\n",
      "Solved system of ODEs for steady state.\n"
     ]
    },
    {
     "name": "stderr",
     "output_type": "stream",
     "text": [
      "Running cases:  48%|████▊     | 48/100 [02:14<02:17,  2.64s/ cases]"
     ]
    },
    {
     "name": "stdout",
     "output_type": "stream",
     "text": [
      "Running UTOPIA model with configured parameters...\n",
      "Generated model objects.\n",
      "Generated rate constants for model particles.\n",
      "Built matrix of interactions.\n",
      "Solved system of ODEs for steady state.\n"
     ]
    },
    {
     "name": "stderr",
     "output_type": "stream",
     "text": [
      "Running cases:  49%|████▉     | 49/100 [02:17<02:16,  2.67s/ cases]"
     ]
    },
    {
     "name": "stdout",
     "output_type": "stream",
     "text": [
      "Running UTOPIA model with configured parameters...\n",
      "Generated model objects.\n",
      "Generated rate constants for model particles.\n",
      "Built matrix of interactions.\n",
      "Solved system of ODEs for steady state.\n"
     ]
    },
    {
     "name": "stderr",
     "output_type": "stream",
     "text": [
      "Running cases:  50%|█████     | 50/100 [02:19<02:09,  2.59s/ cases]"
     ]
    },
    {
     "name": "stdout",
     "output_type": "stream",
     "text": [
      "Running UTOPIA model with configured parameters...\n",
      "Generated model objects.\n",
      "Generated rate constants for model particles.\n",
      "Built matrix of interactions.\n",
      "Solved system of ODEs for steady state.\n"
     ]
    },
    {
     "name": "stderr",
     "output_type": "stream",
     "text": [
      "Running cases:  51%|█████     | 51/100 [02:22<02:08,  2.62s/ cases]"
     ]
    },
    {
     "name": "stdout",
     "output_type": "stream",
     "text": [
      "Running UTOPIA model with configured parameters...\n",
      "Generated model objects.\n",
      "Generated rate constants for model particles.\n",
      "Built matrix of interactions.\n",
      "Solved system of ODEs for steady state.\n"
     ]
    },
    {
     "name": "stderr",
     "output_type": "stream",
     "text": [
      "Running cases:  52%|█████▏    | 52/100 [02:24<02:06,  2.64s/ cases]"
     ]
    },
    {
     "name": "stdout",
     "output_type": "stream",
     "text": [
      "Running UTOPIA model with configured parameters...\n",
      "Generated model objects.\n",
      "Generated rate constants for model particles.\n",
      "Built matrix of interactions.\n",
      "Solved system of ODEs for steady state.\n"
     ]
    },
    {
     "name": "stderr",
     "output_type": "stream",
     "text": [
      "Running cases:  53%|█████▎    | 53/100 [02:27<02:03,  2.63s/ cases]"
     ]
    },
    {
     "name": "stdout",
     "output_type": "stream",
     "text": [
      "Running UTOPIA model with configured parameters...\n",
      "Generated model objects.\n",
      "Generated rate constants for model particles.\n",
      "Built matrix of interactions.\n",
      "Solved system of ODEs for steady state.\n"
     ]
    },
    {
     "name": "stderr",
     "output_type": "stream",
     "text": [
      "Running cases:  54%|█████▍    | 54/100 [02:30<02:01,  2.64s/ cases]"
     ]
    },
    {
     "name": "stdout",
     "output_type": "stream",
     "text": [
      "Running UTOPIA model with configured parameters...\n",
      "Generated model objects.\n",
      "Generated rate constants for model particles.\n",
      "Built matrix of interactions.\n",
      "Solved system of ODEs for steady state.\n"
     ]
    },
    {
     "name": "stderr",
     "output_type": "stream",
     "text": [
      "Running cases:  55%|█████▌    | 55/100 [02:32<02:00,  2.67s/ cases]"
     ]
    },
    {
     "name": "stdout",
     "output_type": "stream",
     "text": [
      "Running UTOPIA model with configured parameters...\n",
      "Generated model objects.\n",
      "Generated rate constants for model particles.\n",
      "Built matrix of interactions.\n",
      "Solved system of ODEs for steady state.\n"
     ]
    },
    {
     "name": "stderr",
     "output_type": "stream",
     "text": [
      "Running cases:  56%|█████▌    | 56/100 [02:36<02:08,  2.92s/ cases]"
     ]
    },
    {
     "name": "stdout",
     "output_type": "stream",
     "text": [
      "Running UTOPIA model with configured parameters...\n",
      "Generated model objects.\n",
      "Generated rate constants for model particles.\n",
      "Built matrix of interactions.\n",
      "Solved system of ODEs for steady state.\n"
     ]
    },
    {
     "name": "stderr",
     "output_type": "stream",
     "text": [
      "Running cases:  57%|█████▋    | 57/100 [02:39<02:06,  2.93s/ cases]"
     ]
    },
    {
     "name": "stdout",
     "output_type": "stream",
     "text": [
      "Running UTOPIA model with configured parameters...\n",
      "Generated model objects.\n",
      "Generated rate constants for model particles.\n",
      "Built matrix of interactions.\n",
      "Solved system of ODEs for steady state.\n"
     ]
    },
    {
     "name": "stderr",
     "output_type": "stream",
     "text": [
      "Running cases:  58%|█████▊    | 58/100 [02:41<01:57,  2.80s/ cases]"
     ]
    },
    {
     "name": "stdout",
     "output_type": "stream",
     "text": [
      "Running UTOPIA model with configured parameters...\n",
      "Generated model objects.\n",
      "Generated rate constants for model particles.\n",
      "Built matrix of interactions.\n",
      "Solved system of ODEs for steady state.\n"
     ]
    },
    {
     "name": "stderr",
     "output_type": "stream",
     "text": [
      "Running cases:  59%|█████▉    | 59/100 [02:44<01:52,  2.75s/ cases]"
     ]
    },
    {
     "name": "stdout",
     "output_type": "stream",
     "text": [
      "Running UTOPIA model with configured parameters...\n",
      "Generated model objects.\n",
      "Generated rate constants for model particles.\n",
      "Built matrix of interactions.\n",
      "Solved system of ODEs for steady state.\n"
     ]
    },
    {
     "name": "stderr",
     "output_type": "stream",
     "text": [
      "Running cases:  60%|██████    | 60/100 [02:47<01:49,  2.74s/ cases]"
     ]
    },
    {
     "name": "stdout",
     "output_type": "stream",
     "text": [
      "Running UTOPIA model with configured parameters...\n",
      "Generated model objects.\n",
      "Generated rate constants for model particles.\n",
      "Built matrix of interactions.\n",
      "Solved system of ODEs for steady state.\n"
     ]
    },
    {
     "name": "stderr",
     "output_type": "stream",
     "text": [
      "Running cases:  61%|██████    | 61/100 [02:50<01:54,  2.93s/ cases]"
     ]
    },
    {
     "name": "stdout",
     "output_type": "stream",
     "text": [
      "Running UTOPIA model with configured parameters...\n",
      "Generated model objects.\n",
      "Generated rate constants for model particles.\n",
      "Built matrix of interactions.\n",
      "Solved system of ODEs for steady state.\n"
     ]
    },
    {
     "name": "stderr",
     "output_type": "stream",
     "text": [
      "Running cases:  62%|██████▏   | 62/100 [02:53<01:50,  2.92s/ cases]"
     ]
    },
    {
     "name": "stdout",
     "output_type": "stream",
     "text": [
      "Running UTOPIA model with configured parameters...\n",
      "Generated model objects.\n",
      "Generated rate constants for model particles.\n",
      "Built matrix of interactions.\n",
      "Solved system of ODEs for steady state.\n"
     ]
    },
    {
     "name": "stderr",
     "output_type": "stream",
     "text": [
      "Running cases:  63%|██████▎   | 63/100 [02:55<01:43,  2.80s/ cases]"
     ]
    },
    {
     "name": "stdout",
     "output_type": "stream",
     "text": [
      "Running UTOPIA model with configured parameters...\n",
      "Generated model objects.\n",
      "Generated rate constants for model particles.\n",
      "Built matrix of interactions.\n",
      "Solved system of ODEs for steady state.\n"
     ]
    },
    {
     "name": "stderr",
     "output_type": "stream",
     "text": [
      "Running cases:  64%|██████▍   | 64/100 [02:58<01:40,  2.79s/ cases]"
     ]
    },
    {
     "name": "stdout",
     "output_type": "stream",
     "text": [
      "Running UTOPIA model with configured parameters...\n",
      "Generated model objects.\n",
      "Generated rate constants for model particles.\n",
      "Built matrix of interactions.\n",
      "Solved system of ODEs for steady state.\n"
     ]
    },
    {
     "name": "stderr",
     "output_type": "stream",
     "text": [
      "Running cases:  65%|██████▌   | 65/100 [03:01<01:36,  2.75s/ cases]"
     ]
    },
    {
     "name": "stdout",
     "output_type": "stream",
     "text": [
      "Running UTOPIA model with configured parameters...\n",
      "Generated model objects.\n",
      "Generated rate constants for model particles.\n",
      "Built matrix of interactions.\n",
      "Solved system of ODEs for steady state.\n"
     ]
    },
    {
     "name": "stderr",
     "output_type": "stream",
     "text": [
      "Running cases:  66%|██████▌   | 66/100 [03:04<01:32,  2.71s/ cases]"
     ]
    },
    {
     "name": "stdout",
     "output_type": "stream",
     "text": [
      "Running UTOPIA model with configured parameters...\n",
      "Generated model objects.\n",
      "Generated rate constants for model particles.\n",
      "Built matrix of interactions.\n",
      "Solved system of ODEs for steady state.\n"
     ]
    },
    {
     "name": "stderr",
     "output_type": "stream",
     "text": [
      "Running cases:  67%|██████▋   | 67/100 [03:06<01:29,  2.71s/ cases]"
     ]
    },
    {
     "name": "stdout",
     "output_type": "stream",
     "text": [
      "Running UTOPIA model with configured parameters...\n",
      "Generated model objects.\n",
      "Generated rate constants for model particles.\n",
      "Built matrix of interactions.\n",
      "Solved system of ODEs for steady state.\n"
     ]
    },
    {
     "name": "stderr",
     "output_type": "stream",
     "text": [
      "Running cases:  68%|██████▊   | 68/100 [03:09<01:25,  2.69s/ cases]"
     ]
    },
    {
     "name": "stdout",
     "output_type": "stream",
     "text": [
      "Running UTOPIA model with configured parameters...\n",
      "Generated model objects.\n",
      "Generated rate constants for model particles.\n",
      "Built matrix of interactions.\n",
      "Solved system of ODEs for steady state.\n"
     ]
    },
    {
     "name": "stderr",
     "output_type": "stream",
     "text": [
      "Running cases:  69%|██████▉   | 69/100 [03:11<01:22,  2.65s/ cases]"
     ]
    },
    {
     "name": "stdout",
     "output_type": "stream",
     "text": [
      "Running UTOPIA model with configured parameters...\n",
      "Generated model objects.\n",
      "Generated rate constants for model particles.\n",
      "Built matrix of interactions.\n",
      "Solved system of ODEs for steady state.\n"
     ]
    },
    {
     "name": "stderr",
     "output_type": "stream",
     "text": [
      "Running cases:  70%|███████   | 70/100 [03:14<01:20,  2.70s/ cases]"
     ]
    },
    {
     "name": "stdout",
     "output_type": "stream",
     "text": [
      "Running UTOPIA model with configured parameters...\n",
      "Generated model objects.\n",
      "Generated rate constants for model particles.\n",
      "Built matrix of interactions.\n",
      "Solved system of ODEs for steady state.\n"
     ]
    },
    {
     "name": "stderr",
     "output_type": "stream",
     "text": [
      "Running cases:  71%|███████   | 71/100 [03:17<01:16,  2.63s/ cases]"
     ]
    },
    {
     "name": "stdout",
     "output_type": "stream",
     "text": [
      "Running UTOPIA model with configured parameters...\n",
      "Generated model objects.\n",
      "Generated rate constants for model particles.\n",
      "Built matrix of interactions.\n",
      "Solved system of ODEs for steady state.\n"
     ]
    },
    {
     "name": "stderr",
     "output_type": "stream",
     "text": [
      "Running cases:  72%|███████▏  | 72/100 [03:19<01:12,  2.60s/ cases]"
     ]
    },
    {
     "name": "stdout",
     "output_type": "stream",
     "text": [
      "Running UTOPIA model with configured parameters...\n",
      "Generated model objects.\n",
      "Generated rate constants for model particles.\n",
      "Built matrix of interactions.\n",
      "Solved system of ODEs for steady state.\n"
     ]
    },
    {
     "name": "stderr",
     "output_type": "stream",
     "text": [
      "Running cases:  73%|███████▎  | 73/100 [03:22<01:11,  2.65s/ cases]"
     ]
    },
    {
     "name": "stdout",
     "output_type": "stream",
     "text": [
      "Running UTOPIA model with configured parameters...\n",
      "Generated model objects.\n",
      "Generated rate constants for model particles.\n",
      "Built matrix of interactions.\n",
      "Solved system of ODEs for steady state.\n"
     ]
    },
    {
     "name": "stderr",
     "output_type": "stream",
     "text": [
      "Running cases:  74%|███████▍  | 74/100 [03:25<01:09,  2.68s/ cases]"
     ]
    },
    {
     "name": "stdout",
     "output_type": "stream",
     "text": [
      "Running UTOPIA model with configured parameters...\n",
      "Generated model objects.\n",
      "Generated rate constants for model particles.\n",
      "Built matrix of interactions.\n",
      "Solved system of ODEs for steady state.\n"
     ]
    },
    {
     "name": "stderr",
     "output_type": "stream",
     "text": [
      "Running cases:  75%|███████▌  | 75/100 [03:28<01:13,  2.93s/ cases]"
     ]
    },
    {
     "name": "stdout",
     "output_type": "stream",
     "text": [
      "Running UTOPIA model with configured parameters...\n",
      "Generated model objects.\n",
      "Generated rate constants for model particles.\n",
      "Built matrix of interactions.\n",
      "Solved system of ODEs for steady state.\n"
     ]
    },
    {
     "name": "stderr",
     "output_type": "stream",
     "text": [
      "Running cases:  76%|███████▌  | 76/100 [03:31<01:11,  2.99s/ cases]"
     ]
    },
    {
     "name": "stdout",
     "output_type": "stream",
     "text": [
      "Running UTOPIA model with configured parameters...\n",
      "Generated model objects.\n",
      "Generated rate constants for model particles.\n",
      "Built matrix of interactions.\n",
      "Solved system of ODEs for steady state.\n"
     ]
    },
    {
     "name": "stderr",
     "output_type": "stream",
     "text": [
      "Running cases:  77%|███████▋  | 77/100 [03:34<01:08,  2.97s/ cases]"
     ]
    },
    {
     "name": "stdout",
     "output_type": "stream",
     "text": [
      "Running UTOPIA model with configured parameters...\n",
      "Generated model objects.\n",
      "Generated rate constants for model particles.\n",
      "Built matrix of interactions.\n",
      "Solved system of ODEs for steady state.\n"
     ]
    },
    {
     "name": "stderr",
     "output_type": "stream",
     "text": [
      "Running cases:  78%|███████▊  | 78/100 [03:37<01:03,  2.88s/ cases]"
     ]
    },
    {
     "name": "stdout",
     "output_type": "stream",
     "text": [
      "Running UTOPIA model with configured parameters...\n",
      "Generated model objects.\n",
      "Generated rate constants for model particles.\n",
      "Built matrix of interactions.\n",
      "Solved system of ODEs for steady state.\n"
     ]
    },
    {
     "name": "stderr",
     "output_type": "stream",
     "text": [
      "Running cases:  79%|███████▉  | 79/100 [03:39<00:57,  2.76s/ cases]"
     ]
    },
    {
     "name": "stdout",
     "output_type": "stream",
     "text": [
      "Running UTOPIA model with configured parameters...\n",
      "Generated model objects.\n",
      "Generated rate constants for model particles.\n",
      "Built matrix of interactions.\n",
      "Solved system of ODEs for steady state.\n"
     ]
    },
    {
     "name": "stderr",
     "output_type": "stream",
     "text": [
      "Running cases:  80%|████████  | 80/100 [03:42<00:54,  2.70s/ cases]"
     ]
    },
    {
     "name": "stdout",
     "output_type": "stream",
     "text": [
      "Running UTOPIA model with configured parameters...\n",
      "Generated model objects.\n",
      "Generated rate constants for model particles.\n",
      "Built matrix of interactions.\n",
      "Solved system of ODEs for steady state.\n"
     ]
    },
    {
     "name": "stderr",
     "output_type": "stream",
     "text": [
      "Running cases:  81%|████████  | 81/100 [03:45<00:51,  2.71s/ cases]"
     ]
    },
    {
     "name": "stdout",
     "output_type": "stream",
     "text": [
      "Running UTOPIA model with configured parameters...\n",
      "Generated model objects.\n",
      "Generated rate constants for model particles.\n",
      "Built matrix of interactions.\n",
      "Solved system of ODEs for steady state.\n"
     ]
    },
    {
     "name": "stderr",
     "output_type": "stream",
     "text": [
      "Running cases:  82%|████████▏ | 82/100 [03:47<00:48,  2.70s/ cases]"
     ]
    },
    {
     "name": "stdout",
     "output_type": "stream",
     "text": [
      "Running UTOPIA model with configured parameters...\n",
      "Generated model objects.\n",
      "Generated rate constants for model particles.\n",
      "Built matrix of interactions.\n",
      "Solved system of ODEs for steady state.\n"
     ]
    },
    {
     "name": "stderr",
     "output_type": "stream",
     "text": [
      "Running cases:  83%|████████▎ | 83/100 [03:50<00:46,  2.76s/ cases]"
     ]
    },
    {
     "name": "stdout",
     "output_type": "stream",
     "text": [
      "Running UTOPIA model with configured parameters...\n",
      "Generated model objects.\n",
      "Generated rate constants for model particles.\n",
      "Built matrix of interactions.\n",
      "Solved system of ODEs for steady state.\n"
     ]
    },
    {
     "name": "stderr",
     "output_type": "stream",
     "text": [
      "Running cases:  84%|████████▍ | 84/100 [03:53<00:42,  2.67s/ cases]"
     ]
    },
    {
     "name": "stdout",
     "output_type": "stream",
     "text": [
      "Running UTOPIA model with configured parameters...\n",
      "Generated model objects.\n",
      "Generated rate constants for model particles.\n",
      "Built matrix of interactions.\n",
      "Solved system of ODEs for steady state.\n"
     ]
    },
    {
     "name": "stderr",
     "output_type": "stream",
     "text": [
      "Running cases:  85%|████████▌ | 85/100 [03:56<00:40,  2.70s/ cases]"
     ]
    },
    {
     "name": "stdout",
     "output_type": "stream",
     "text": [
      "Running UTOPIA model with configured parameters...\n",
      "Generated model objects.\n",
      "Generated rate constants for model particles.\n",
      "Built matrix of interactions.\n",
      "Solved system of ODEs for steady state.\n"
     ]
    },
    {
     "name": "stderr",
     "output_type": "stream",
     "text": [
      "Running cases:  86%|████████▌ | 86/100 [03:58<00:38,  2.74s/ cases]"
     ]
    },
    {
     "name": "stdout",
     "output_type": "stream",
     "text": [
      "Running UTOPIA model with configured parameters...\n",
      "Generated model objects.\n",
      "Generated rate constants for model particles.\n",
      "Built matrix of interactions.\n",
      "Solved system of ODEs for steady state.\n"
     ]
    },
    {
     "name": "stderr",
     "output_type": "stream",
     "text": [
      "Running cases:  87%|████████▋ | 87/100 [04:01<00:35,  2.73s/ cases]"
     ]
    },
    {
     "name": "stdout",
     "output_type": "stream",
     "text": [
      "Running UTOPIA model with configured parameters...\n",
      "Generated model objects.\n",
      "Generated rate constants for model particles.\n",
      "Built matrix of interactions.\n",
      "Solved system of ODEs for steady state.\n"
     ]
    },
    {
     "name": "stderr",
     "output_type": "stream",
     "text": [
      "Running cases:  88%|████████▊ | 88/100 [04:04<00:32,  2.74s/ cases]"
     ]
    },
    {
     "name": "stdout",
     "output_type": "stream",
     "text": [
      "Running UTOPIA model with configured parameters...\n",
      "Generated model objects.\n",
      "Generated rate constants for model particles.\n",
      "Built matrix of interactions.\n",
      "Solved system of ODEs for steady state.\n"
     ]
    },
    {
     "name": "stderr",
     "output_type": "stream",
     "text": [
      "Running cases:  89%|████████▉ | 89/100 [04:06<00:29,  2.70s/ cases]"
     ]
    },
    {
     "name": "stdout",
     "output_type": "stream",
     "text": [
      "Running UTOPIA model with configured parameters...\n",
      "Generated model objects.\n",
      "Generated rate constants for model particles.\n",
      "Built matrix of interactions.\n",
      "Solved system of ODEs for steady state.\n"
     ]
    },
    {
     "name": "stderr",
     "output_type": "stream",
     "text": [
      "Running cases:  90%|█████████ | 90/100 [04:09<00:26,  2.69s/ cases]"
     ]
    },
    {
     "name": "stdout",
     "output_type": "stream",
     "text": [
      "Running UTOPIA model with configured parameters...\n",
      "Generated model objects.\n",
      "Generated rate constants for model particles.\n",
      "Built matrix of interactions.\n",
      "Solved system of ODEs for steady state.\n"
     ]
    },
    {
     "name": "stderr",
     "output_type": "stream",
     "text": [
      "Running cases:  91%|█████████ | 91/100 [04:12<00:24,  2.71s/ cases]"
     ]
    },
    {
     "name": "stdout",
     "output_type": "stream",
     "text": [
      "Running UTOPIA model with configured parameters...\n",
      "Generated model objects.\n",
      "Generated rate constants for model particles.\n",
      "Built matrix of interactions.\n",
      "Solved system of ODEs for steady state.\n"
     ]
    },
    {
     "name": "stderr",
     "output_type": "stream",
     "text": [
      "Running cases:  92%|█████████▏| 92/100 [04:15<00:21,  2.74s/ cases]"
     ]
    },
    {
     "name": "stdout",
     "output_type": "stream",
     "text": [
      "Running UTOPIA model with configured parameters...\n",
      "Generated model objects.\n",
      "Generated rate constants for model particles.\n",
      "Built matrix of interactions.\n",
      "Solved system of ODEs for steady state.\n"
     ]
    },
    {
     "name": "stderr",
     "output_type": "stream",
     "text": [
      "Running cases:  93%|█████████▎| 93/100 [04:18<00:19,  2.78s/ cases]"
     ]
    },
    {
     "name": "stdout",
     "output_type": "stream",
     "text": [
      "Running UTOPIA model with configured parameters...\n",
      "Generated model objects.\n",
      "Generated rate constants for model particles.\n",
      "Built matrix of interactions.\n",
      "Solved system of ODEs for steady state.\n"
     ]
    },
    {
     "name": "stderr",
     "output_type": "stream",
     "text": [
      "Running cases:  94%|█████████▍| 94/100 [04:20<00:16,  2.80s/ cases]"
     ]
    },
    {
     "name": "stdout",
     "output_type": "stream",
     "text": [
      "Running UTOPIA model with configured parameters...\n",
      "Generated model objects.\n",
      "Generated rate constants for model particles.\n",
      "Built matrix of interactions.\n",
      "Solved system of ODEs for steady state.\n"
     ]
    },
    {
     "name": "stderr",
     "output_type": "stream",
     "text": [
      "Running cases:  95%|█████████▌| 95/100 [04:23<00:13,  2.75s/ cases]"
     ]
    },
    {
     "name": "stdout",
     "output_type": "stream",
     "text": [
      "Running UTOPIA model with configured parameters...\n",
      "Generated model objects.\n",
      "Generated rate constants for model particles.\n",
      "Built matrix of interactions.\n",
      "Solved system of ODEs for steady state.\n"
     ]
    },
    {
     "name": "stderr",
     "output_type": "stream",
     "text": [
      "Running cases:  96%|█████████▌| 96/100 [04:26<00:11,  2.81s/ cases]"
     ]
    },
    {
     "name": "stdout",
     "output_type": "stream",
     "text": [
      "Running UTOPIA model with configured parameters...\n",
      "Generated model objects.\n",
      "Generated rate constants for model particles.\n",
      "Built matrix of interactions.\n",
      "Solved system of ODEs for steady state.\n"
     ]
    },
    {
     "name": "stderr",
     "output_type": "stream",
     "text": [
      "Running cases:  97%|█████████▋| 97/100 [04:29<00:08,  2.79s/ cases]"
     ]
    },
    {
     "name": "stdout",
     "output_type": "stream",
     "text": [
      "Running UTOPIA model with configured parameters...\n",
      "Generated model objects.\n",
      "Generated rate constants for model particles.\n",
      "Built matrix of interactions.\n",
      "Solved system of ODEs for steady state.\n"
     ]
    },
    {
     "name": "stderr",
     "output_type": "stream",
     "text": [
      "Running cases:  98%|█████████▊| 98/100 [04:31<00:05,  2.72s/ cases]"
     ]
    },
    {
     "name": "stdout",
     "output_type": "stream",
     "text": [
      "Running UTOPIA model with configured parameters...\n",
      "Generated model objects.\n",
      "Generated rate constants for model particles.\n",
      "Built matrix of interactions.\n",
      "Solved system of ODEs for steady state.\n"
     ]
    },
    {
     "name": "stderr",
     "output_type": "stream",
     "text": [
      "Running cases:  99%|█████████▉| 99/100 [04:34<00:02,  2.67s/ cases]"
     ]
    },
    {
     "name": "stdout",
     "output_type": "stream",
     "text": [
      "Running UTOPIA model with configured parameters...\n",
      "Generated model objects.\n",
      "Generated rate constants for model particles.\n",
      "Built matrix of interactions.\n",
      "Solved system of ODEs for steady state.\n"
     ]
    },
    {
     "name": "stderr",
     "output_type": "stream",
     "text": [
      "Running cases: 100%|██████████| 100/100 [04:37<00:00,  2.77s/ cases]\n",
      "Postprocessing cases: 100%|██████████| 100/100 [00:00<00:00, 30023.65 cases/s]"
     ]
    },
    {
     "name": "stdout",
     "output_type": "stream",
     "text": [
      "Simulation complete! Runtime: 0:04:37.503825\n"
     ]
    },
    {
     "name": "stderr",
     "output_type": "stream",
     "text": [
      "\n"
     ]
    }
   ],
   "source": [
    "# Run the Monte Carlo analysis with the specified parameters distributions and number of cases.\n",
    "\n",
    "sim= run_mc_analysis(\n",
    "    base_config=config_data,\n",
    "    base_data=data_data,\n",
    "    n_cases=100,\n",
    "    param_distributions=param_distributions\n",
    ")\n",
    "\n"
   ]
  },
  {
   "cell_type": "markdown",
   "id": "23dd9198",
   "metadata": {},
   "source": [
    "### Optional: Export the output variables from the simulation to a file.\n"
   ]
  },
  {
   "cell_type": "code",
   "execution_count": 6,
   "id": "303819c8",
   "metadata": {},
   "outputs": [
    {
     "name": "stdout",
     "output_type": "stream",
     "text": [
      "Exporting InVar draws to file...\n",
      "OutVar nums saved in 'UTOPIA_MC_simulation_outvarnums.json'\n"
     ]
    }
   ],
   "source": [
    "\n",
    "import os\n",
    "\n",
    "output_dir = \"UTOPIA_MC_simulation_results\"\n",
    "if not os.path.exists(output_dir):\n",
    "\tos.makedirs(output_dir)\n",
    "\n",
    "sim.exportOutVars()"
   ]
  },
  {
   "cell_type": "markdown",
   "id": "186c4cea",
   "metadata": {},
   "source": [
    "### Plot sensitivity indices for each output variable.  Monaco uses the D-VARS approach to calculating global sensitivity indices."
   ]
  },
  {
   "cell_type": "code",
   "execution_count": 15,
   "id": "011d3b5e",
   "metadata": {},
   "outputs": [
    {
     "data": {
      "text/plain": [
       "{'residence_time_mass': <monaco.mc_var.OutVar at 0x1b5b6ce4fd0>,\n",
       " 'residence_time_number': <monaco.mc_var.OutVar at 0x1b5b8fd2580>,\n",
       " 'persistence_mass': <monaco.mc_var.OutVar at 0x1b5b6ae1c10>,\n",
       " 'persistence_number': <monaco.mc_var.OutVar at 0x1b5b6e6ed30>,\n",
       " 'C_g_m3_Ocean_Surface_Water': <monaco.mc_var.OutVar at 0x1b5fcaaa8e0>}"
      ]
     },
     "execution_count": 15,
     "metadata": {},
     "output_type": "execute_result"
    }
   ],
   "source": [
    "sim.outvars"
   ]
  },
  {
   "cell_type": "code",
   "execution_count": 16,
   "id": "3a75085b",
   "metadata": {},
   "outputs": [
    {
     "name": "stdout",
     "output_type": "stream",
     "text": [
      "Calculating sensitivity indices for 'C_g_m3_Ocean_Surface_Water'...\n",
      "Calculating optimal hyperparameters Φ for 'C_g_m3_Ocean_Surface_Water' covariances...\n",
      "Done calculating optimal hyperparameters.\n",
      "Done calculating sensitivity indices.\n"
     ]
    },
    {
     "data": {
      "image/png": "[encoded data removed]",
      "text/plain": [
       "<Figure size 640x480 with 1 Axes>"
      ]
     },
     "metadata": {},
     "output_type": "display_data"
    }
   ],
   "source": [
    "sim.calcSensitivities(\"C_g_m3_Ocean_Surface_Water\")\n",
    "fig, ax = sim.outvars[\"C_g_m3_Ocean_Surface_Water\"].plotSensitivities()"
   ]
  },
  {
   "cell_type": "code",
   "execution_count": 21,
   "id": "b78a2742",
   "metadata": {},
   "outputs": [
    {
     "name": "stdout",
     "output_type": "stream",
     "text": [
      "Calculating sensitivity indices for 'persistence_number'...\n",
      "Calculating optimal hyperparameters Φ for 'persistence_number' covariances...\n",
      "Done calculating optimal hyperparameters.\n",
      "Done calculating sensitivity indices.\n"
     ]
    },
    {
     "data": {
      "image/png": "[encoded data removed]",
      "text/plain": [
       "<Figure size 640x480 with 1 Axes>"
      ]
     },
     "metadata": {},
     "output_type": "display_data"
    }
   ],
   "source": [
    "sim.calcSensitivities(\"persistence_number\")\n",
    "fig, ax = sim.outvars[\"persistence_number\"].plotSensitivities()"
   ]
  },
  {
   "cell_type": "code",
   "execution_count": null,
   "id": "43348686",
   "metadata": {},
   "outputs": [
    {
     "name": "stdout",
     "output_type": "stream",
     "text": [
      "Variable: residence_time_mass\n",
      "Calculating sensitivity indices for 'residence_time_mass'...\n",
      "Calculating optimal hyperparameters Φ for 'residence_time_mass' covariances...\n",
      "Done calculating optimal hyperparameters.\n",
      "Done calculating sensitivity indices.\n"
     ]
    },
    {
     "data": {
      "image/png": "[encoded data removed]",
      "text/plain": [
       "<Figure size 640x480 with 1 Axes>"
      ]
     },
     "metadata": {},
     "output_type": "display_data"
    },
    {
     "name": "stdout",
     "output_type": "stream",
     "text": [
      "Variable: residence_time_number\n",
      "Calculating sensitivity indices for 'residence_time_number'...\n",
      "Calculating optimal hyperparameters Φ for 'residence_time_number' covariances...\n"
     ]
    },
    {
     "ename": "LinAlgError",
     "evalue": "Singular matrix",
     "output_type": "error",
     "traceback": [
      "\u001b[1;31m---------------------------------------------------------------------------\u001b[0m",
      "\u001b[1;31mLinAlgError\u001b[0m                               Traceback (most recent call last)",
      "Cell \u001b[1;32mIn[7], line 7\u001b[0m\n\u001b[0;32m      3\u001b[0m \u001b[38;5;28;01mfor\u001b[39;00m var \u001b[38;5;129;01min\u001b[39;00m sim\u001b[38;5;241m.\u001b[39moutvars:\n\u001b[0;32m      4\u001b[0m     \u001b[38;5;28mprint\u001b[39m(\u001b[38;5;124mf\u001b[39m\u001b[38;5;124m\"\u001b[39m\u001b[38;5;124mVariable: \u001b[39m\u001b[38;5;132;01m{\u001b[39;00mvar\u001b[38;5;132;01m}\u001b[39;00m\u001b[38;5;124m\"\u001b[39m)\n\u001b[1;32m----> 7\u001b[0m     \u001b[43msim\u001b[49m\u001b[38;5;241;43m.\u001b[39;49m\u001b[43mcalcSensitivities\u001b[49m\u001b[43m(\u001b[49m\u001b[43mvar\u001b[49m\u001b[43m)\u001b[49m\n\u001b[0;32m      8\u001b[0m     fig, ax \u001b[38;5;241m=\u001b[39m sim\u001b[38;5;241m.\u001b[39moutvars[var]\u001b[38;5;241m.\u001b[39mplotSensitivities()\n\u001b[0;32m     10\u001b[0m     plt\u001b[38;5;241m.\u001b[39mshow()\n",
      "File \u001b[1;32mc:\\Users\\PradoDomercq\\AppData\\Local\\miniconda3\\envs\\utopia_env\\lib\\site-packages\\monaco\\mc_sim.py:921\u001b[0m, in \u001b[0;36mSim.calcSensitivities\u001b[1;34m(self, outvarnames, tol, verbose)\u001b[0m\n\u001b[0;32m    919\u001b[0m \u001b[38;5;28;01melse\u001b[39;00m:\n\u001b[0;32m    920\u001b[0m     vprint(\u001b[38;5;28mself\u001b[39m\u001b[38;5;241m.\u001b[39mverbose, \u001b[38;5;124mf\u001b[39m\u001b[38;5;124m\"\u001b[39m\u001b[38;5;124mCalculating sensitivity indices for \u001b[39m\u001b[38;5;124m'\u001b[39m\u001b[38;5;132;01m{\u001b[39;00moutvarname\u001b[38;5;132;01m}\u001b[39;00m\u001b[38;5;124m'\u001b[39m\u001b[38;5;124m...\u001b[39m\u001b[38;5;124m\"\u001b[39m)\n\u001b[1;32m--> 921\u001b[0m     sensitivities, ratios \u001b[38;5;241m=\u001b[39m \u001b[43mcalc_sensitivities\u001b[49m\u001b[43m(\u001b[49m\u001b[38;5;28;43mself\u001b[39;49m\u001b[43m,\u001b[49m\u001b[43m \u001b[49m\u001b[43moutvarname\u001b[49m\u001b[43m,\u001b[49m\n\u001b[0;32m    922\u001b[0m \u001b[43m                                               \u001b[49m\u001b[43mtol\u001b[49m\u001b[38;5;241;43m=\u001b[39;49m\u001b[43mtol\u001b[49m\u001b[43m,\u001b[49m\u001b[43m \u001b[49m\u001b[43mverbose\u001b[49m\u001b[38;5;241;43m=\u001b[39;49m\u001b[43mverbose\u001b[49m\u001b[43m)\u001b[49m\n\u001b[0;32m    924\u001b[0m     sensitivities_dict \u001b[38;5;241m=\u001b[39m \u001b[38;5;28mdict\u001b[39m()\n\u001b[0;32m    925\u001b[0m     ratios_dict \u001b[38;5;241m=\u001b[39m \u001b[38;5;28mdict\u001b[39m()\n",
      "File \u001b[1;32mc:\\Users\\PradoDomercq\\AppData\\Local\\miniconda3\\envs\\utopia_env\\lib\\site-packages\\monaco\\dvars_sensitivity.py:87\u001b[0m, in \u001b[0;36mcalc_sensitivities\u001b[1;34m(sim, outvarname, Hj, tol, verbose)\u001b[0m\n\u001b[0;32m     31\u001b[0m \u001b[38;5;28;01mdef\u001b[39;00m\u001b[38;5;250m \u001b[39m\u001b[38;5;21mcalc_sensitivities\u001b[39m(sim        : \u001b[38;5;124m'\u001b[39m\u001b[38;5;124mSim\u001b[39m\u001b[38;5;124m'\u001b[39m,\n\u001b[0;32m     32\u001b[0m                        outvarname : \u001b[38;5;28mstr\u001b[39m,\n\u001b[0;32m     33\u001b[0m                        Hj         : \u001b[38;5;28mfloat\u001b[39m \u001b[38;5;241m=\u001b[39m \u001b[38;5;241m1.0\u001b[39m,\n\u001b[0;32m     34\u001b[0m                        tol        : \u001b[38;5;28mfloat\u001b[39m \u001b[38;5;241m=\u001b[39m \u001b[38;5;241m1e-6\u001b[39m,\n\u001b[0;32m     35\u001b[0m                        verbose    : \u001b[38;5;28mbool\u001b[39m  \u001b[38;5;241m=\u001b[39m \u001b[38;5;28;01mFalse\u001b[39;00m,\n\u001b[0;32m     36\u001b[0m                        ) \u001b[38;5;241m-\u001b[39m\u001b[38;5;241m>\u001b[39m \u001b[38;5;28mtuple\u001b[39m[np\u001b[38;5;241m.\u001b[39mndarray, np\u001b[38;5;241m.\u001b[39mndarray]:\n\u001b[0;32m     37\u001b[0m \u001b[38;5;250m    \u001b[39m\u001b[38;5;124;03m\"\"\"\u001b[39;00m\n\u001b[0;32m     38\u001b[0m \u001b[38;5;124;03m    Calculates the global sensitivity indices and ratios for a specific output\u001b[39;00m\n\u001b[0;32m     39\u001b[0m \u001b[38;5;124;03m    variable to each of a simulation's input variables.\u001b[39;00m\n\u001b[1;32m   (...)\u001b[0m\n\u001b[0;32m     85\u001b[0m \u001b[38;5;124;03m           1. Theory.\" Water Resources Research 52.1 (2016): 423-439.\u001b[39;00m\n\u001b[0;32m     86\u001b[0m \u001b[38;5;124;03m    \"\"\"\u001b[39;00m\n\u001b[1;32m---> 87\u001b[0m     phi_opt \u001b[38;5;241m=\u001b[39m \u001b[43mcalc_phi_opt\u001b[49m\u001b[43m(\u001b[49m\u001b[43msim\u001b[49m\u001b[43m,\u001b[49m\u001b[43m \u001b[49m\u001b[43moutvarname\u001b[49m\u001b[43m,\u001b[49m\u001b[43m \u001b[49m\u001b[43mtol\u001b[49m\u001b[43m,\u001b[49m\u001b[43m \u001b[49m\u001b[43mverbose\u001b[49m\u001b[43m)\u001b[49m\n\u001b[0;32m     89\u001b[0m     variance \u001b[38;5;241m=\u001b[39m np\u001b[38;5;241m.\u001b[39mvar(np\u001b[38;5;241m.\u001b[39marray([sim\u001b[38;5;241m.\u001b[39moutvars[outvarname]\u001b[38;5;241m.\u001b[39mnums]))\n\u001b[0;32m     90\u001b[0m     sensitivities \u001b[38;5;241m=\u001b[39m np\u001b[38;5;241m.\u001b[39mzeros(sim\u001b[38;5;241m.\u001b[39mninvars)\n",
      "File \u001b[1;32mc:\\Users\\PradoDomercq\\AppData\\Local\\miniconda3\\envs\\utopia_env\\lib\\site-packages\\monaco\\dvars_sensitivity.py:140\u001b[0m, in \u001b[0;36mcalc_phi_opt\u001b[1;34m(sim, outvarname, tol, verbose)\u001b[0m\n\u001b[0;32m    137\u001b[0m vprint(sim\u001b[38;5;241m.\u001b[39mverbose, \u001b[38;5;124m'\u001b[39m\u001b[38;5;124mCalculating optimal hyperparameters Φ for \u001b[39m\u001b[38;5;124m'\u001b[39m \u001b[38;5;241m+\u001b[39m\n\u001b[0;32m    138\u001b[0m                    \u001b[38;5;124mf\u001b[39m\u001b[38;5;124m\"\u001b[39m\u001b[38;5;124m'\u001b[39m\u001b[38;5;132;01m{\u001b[39;00moutvarname\u001b[38;5;132;01m}\u001b[39;00m\u001b[38;5;124m'\u001b[39m\u001b[38;5;124m covariances...\u001b[39m\u001b[38;5;124m\"\u001b[39m)\n\u001b[0;32m    139\u001b[0m X, Y \u001b[38;5;241m=\u001b[39m full_states(sim, outvarname)\n\u001b[1;32m--> 140\u001b[0m res \u001b[38;5;241m=\u001b[39m \u001b[43mminimize\u001b[49m\u001b[43m(\u001b[49m\u001b[43mL_runner\u001b[49m\u001b[43m,\u001b[49m\u001b[43m \u001b[49m\u001b[43mphi0s\u001b[49m\u001b[43m,\u001b[49m\u001b[43m \u001b[49m\u001b[43margs\u001b[49m\u001b[38;5;241;43m=\u001b[39;49m\u001b[43m(\u001b[49m\u001b[43mX\u001b[49m\u001b[43m,\u001b[49m\u001b[43m \u001b[49m\u001b[43mY\u001b[49m\u001b[43m,\u001b[49m\u001b[43m \u001b[49m\u001b[43mverbose\u001b[49m\u001b[43m)\u001b[49m\u001b[43m,\u001b[49m\u001b[43m \u001b[49m\u001b[43mbounds\u001b[49m\u001b[38;5;241;43m=\u001b[39;49m\u001b[43mbounds\u001b[49m\u001b[43m,\u001b[49m\n\u001b[0;32m    141\u001b[0m \u001b[43m               \u001b[49m\u001b[43mtol\u001b[49m\u001b[38;5;241;43m=\u001b[39;49m\u001b[43mtol\u001b[49m\u001b[43m,\u001b[49m\u001b[43m \u001b[49m\u001b[43mmethod\u001b[49m\u001b[38;5;241;43m=\u001b[39;49m\u001b[38;5;124;43m'\u001b[39;49m\u001b[38;5;124;43mL-BFGS-B\u001b[39;49m\u001b[38;5;124;43m'\u001b[39;49m\u001b[43m)\u001b[49m\n\u001b[0;32m    142\u001b[0m phi_opt \u001b[38;5;241m=\u001b[39m res\u001b[38;5;241m.\u001b[39mx\n\u001b[0;32m    143\u001b[0m vprint(sim\u001b[38;5;241m.\u001b[39mverbose, \u001b[38;5;124m'\u001b[39m\u001b[38;5;124mDone calculating optimal hyperparameters.\u001b[39m\u001b[38;5;124m'\u001b[39m)\n",
      "File \u001b[1;32mc:\\Users\\PradoDomercq\\AppData\\Local\\miniconda3\\envs\\utopia_env\\lib\\site-packages\\scipy\\optimize\\_minimize.py:713\u001b[0m, in \u001b[0;36mminimize\u001b[1;34m(fun, x0, args, method, jac, hess, hessp, bounds, constraints, tol, callback, options)\u001b[0m\n\u001b[0;32m    710\u001b[0m     res \u001b[38;5;241m=\u001b[39m _minimize_newtoncg(fun, x0, args, jac, hess, hessp, callback,\n\u001b[0;32m    711\u001b[0m                              \u001b[38;5;241m*\u001b[39m\u001b[38;5;241m*\u001b[39moptions)\n\u001b[0;32m    712\u001b[0m \u001b[38;5;28;01melif\u001b[39;00m meth \u001b[38;5;241m==\u001b[39m \u001b[38;5;124m'\u001b[39m\u001b[38;5;124ml-bfgs-b\u001b[39m\u001b[38;5;124m'\u001b[39m:\n\u001b[1;32m--> 713\u001b[0m     res \u001b[38;5;241m=\u001b[39m _minimize_lbfgsb(fun, x0, args, jac, bounds,\n\u001b[0;32m    714\u001b[0m                            callback\u001b[38;5;241m=\u001b[39mcallback, \u001b[38;5;241m*\u001b[39m\u001b[38;5;241m*\u001b[39moptions)\n\u001b[0;32m    715\u001b[0m \u001b[38;5;28;01melif\u001b[39;00m meth \u001b[38;5;241m==\u001b[39m \u001b[38;5;124m'\u001b[39m\u001b[38;5;124mtnc\u001b[39m\u001b[38;5;124m'\u001b[39m:\n\u001b[0;32m    716\u001b[0m     res \u001b[38;5;241m=\u001b[39m _minimize_tnc(fun, x0, args, jac, bounds, callback\u001b[38;5;241m=\u001b[39mcallback,\n\u001b[0;32m    717\u001b[0m                         \u001b[38;5;241m*\u001b[39m\u001b[38;5;241m*\u001b[39moptions)\n",
      "File \u001b[1;32mc:\\Users\\PradoDomercq\\AppData\\Local\\miniconda3\\envs\\utopia_env\\lib\\site-packages\\scipy\\optimize\\_lbfgsb_py.py:407\u001b[0m, in \u001b[0;36m_minimize_lbfgsb\u001b[1;34m(fun, x0, args, jac, bounds, disp, maxcor, ftol, gtol, eps, maxfun, maxiter, iprint, callback, maxls, finite_diff_rel_step, **unknown_options)\u001b[0m\n\u001b[0;32m    401\u001b[0m task_str \u001b[38;5;241m=\u001b[39m task\u001b[38;5;241m.\u001b[39mtobytes()\n\u001b[0;32m    402\u001b[0m \u001b[38;5;28;01mif\u001b[39;00m task_str\u001b[38;5;241m.\u001b[39mstartswith(\u001b[38;5;124mb\u001b[39m\u001b[38;5;124m'\u001b[39m\u001b[38;5;124mFG\u001b[39m\u001b[38;5;124m'\u001b[39m):\n\u001b[0;32m    403\u001b[0m     \u001b[38;5;66;03m# The minimization routine wants f and g at the current x.\u001b[39;00m\n\u001b[0;32m    404\u001b[0m     \u001b[38;5;66;03m# Note that interruptions due to maxfun are postponed\u001b[39;00m\n\u001b[0;32m    405\u001b[0m     \u001b[38;5;66;03m# until the completion of the current minimization iteration.\u001b[39;00m\n\u001b[0;32m    406\u001b[0m     \u001b[38;5;66;03m# Overwrite f and g:\u001b[39;00m\n\u001b[1;32m--> 407\u001b[0m     f, g \u001b[38;5;241m=\u001b[39m \u001b[43mfunc_and_grad\u001b[49m\u001b[43m(\u001b[49m\u001b[43mx\u001b[49m\u001b[43m)\u001b[49m\n\u001b[0;32m    408\u001b[0m \u001b[38;5;28;01melif\u001b[39;00m task_str\u001b[38;5;241m.\u001b[39mstartswith(\u001b[38;5;124mb\u001b[39m\u001b[38;5;124m'\u001b[39m\u001b[38;5;124mNEW_X\u001b[39m\u001b[38;5;124m'\u001b[39m):\n\u001b[0;32m    409\u001b[0m     \u001b[38;5;66;03m# new iteration\u001b[39;00m\n\u001b[0;32m    410\u001b[0m     n_iterations \u001b[38;5;241m+\u001b[39m\u001b[38;5;241m=\u001b[39m \u001b[38;5;241m1\u001b[39m\n",
      "File \u001b[1;32mc:\\Users\\PradoDomercq\\AppData\\Local\\miniconda3\\envs\\utopia_env\\lib\\site-packages\\scipy\\optimize\\_differentiable_functions.py:296\u001b[0m, in \u001b[0;36mScalarFunction.fun_and_grad\u001b[1;34m(self, x)\u001b[0m\n\u001b[0;32m    294\u001b[0m \u001b[38;5;28;01mif\u001b[39;00m \u001b[38;5;129;01mnot\u001b[39;00m np\u001b[38;5;241m.\u001b[39marray_equal(x, \u001b[38;5;28mself\u001b[39m\u001b[38;5;241m.\u001b[39mx):\n\u001b[0;32m    295\u001b[0m     \u001b[38;5;28mself\u001b[39m\u001b[38;5;241m.\u001b[39m_update_x_impl(x)\n\u001b[1;32m--> 296\u001b[0m \u001b[38;5;28;43mself\u001b[39;49m\u001b[38;5;241;43m.\u001b[39;49m\u001b[43m_update_fun\u001b[49m\u001b[43m(\u001b[49m\u001b[43m)\u001b[49m\n\u001b[0;32m    297\u001b[0m \u001b[38;5;28mself\u001b[39m\u001b[38;5;241m.\u001b[39m_update_grad()\n\u001b[0;32m    298\u001b[0m \u001b[38;5;28;01mreturn\u001b[39;00m \u001b[38;5;28mself\u001b[39m\u001b[38;5;241m.\u001b[39mf, \u001b[38;5;28mself\u001b[39m\u001b[38;5;241m.\u001b[39mg\n",
      "File \u001b[1;32mc:\\Users\\PradoDomercq\\AppData\\Local\\miniconda3\\envs\\utopia_env\\lib\\site-packages\\scipy\\optimize\\_differentiable_functions.py:262\u001b[0m, in \u001b[0;36mScalarFunction._update_fun\u001b[1;34m(self)\u001b[0m\n\u001b[0;32m    260\u001b[0m \u001b[38;5;28;01mdef\u001b[39;00m\u001b[38;5;250m \u001b[39m\u001b[38;5;21m_update_fun\u001b[39m(\u001b[38;5;28mself\u001b[39m):\n\u001b[0;32m    261\u001b[0m     \u001b[38;5;28;01mif\u001b[39;00m \u001b[38;5;129;01mnot\u001b[39;00m \u001b[38;5;28mself\u001b[39m\u001b[38;5;241m.\u001b[39mf_updated:\n\u001b[1;32m--> 262\u001b[0m         \u001b[38;5;28;43mself\u001b[39;49m\u001b[38;5;241;43m.\u001b[39;49m\u001b[43m_update_fun_impl\u001b[49m\u001b[43m(\u001b[49m\u001b[43m)\u001b[49m\n\u001b[0;32m    263\u001b[0m         \u001b[38;5;28mself\u001b[39m\u001b[38;5;241m.\u001b[39mf_updated \u001b[38;5;241m=\u001b[39m \u001b[38;5;28;01mTrue\u001b[39;00m\n",
      "File \u001b[1;32mc:\\Users\\PradoDomercq\\AppData\\Local\\miniconda3\\envs\\utopia_env\\lib\\site-packages\\scipy\\optimize\\_differentiable_functions.py:163\u001b[0m, in \u001b[0;36mScalarFunction.__init__.<locals>.update_fun\u001b[1;34m()\u001b[0m\n\u001b[0;32m    162\u001b[0m \u001b[38;5;28;01mdef\u001b[39;00m\u001b[38;5;250m \u001b[39m\u001b[38;5;21mupdate_fun\u001b[39m():\n\u001b[1;32m--> 163\u001b[0m     \u001b[38;5;28mself\u001b[39m\u001b[38;5;241m.\u001b[39mf \u001b[38;5;241m=\u001b[39m \u001b[43mfun_wrapped\u001b[49m\u001b[43m(\u001b[49m\u001b[38;5;28;43mself\u001b[39;49m\u001b[38;5;241;43m.\u001b[39;49m\u001b[43mx\u001b[49m\u001b[43m)\u001b[49m\n",
      "File \u001b[1;32mc:\\Users\\PradoDomercq\\AppData\\Local\\miniconda3\\envs\\utopia_env\\lib\\site-packages\\scipy\\optimize\\_differentiable_functions.py:145\u001b[0m, in \u001b[0;36mScalarFunction.__init__.<locals>.fun_wrapped\u001b[1;34m(x)\u001b[0m\n\u001b[0;32m    141\u001b[0m \u001b[38;5;28mself\u001b[39m\u001b[38;5;241m.\u001b[39mnfev \u001b[38;5;241m+\u001b[39m\u001b[38;5;241m=\u001b[39m \u001b[38;5;241m1\u001b[39m\n\u001b[0;32m    142\u001b[0m \u001b[38;5;66;03m# Send a copy because the user may overwrite it.\u001b[39;00m\n\u001b[0;32m    143\u001b[0m \u001b[38;5;66;03m# Overwriting results in undefined behaviour because\u001b[39;00m\n\u001b[0;32m    144\u001b[0m \u001b[38;5;66;03m# fun(self.x) will change self.x, with the two no longer linked.\u001b[39;00m\n\u001b[1;32m--> 145\u001b[0m fx \u001b[38;5;241m=\u001b[39m \u001b[43mfun\u001b[49m\u001b[43m(\u001b[49m\u001b[43mnp\u001b[49m\u001b[38;5;241;43m.\u001b[39;49m\u001b[43mcopy\u001b[49m\u001b[43m(\u001b[49m\u001b[43mx\u001b[49m\u001b[43m)\u001b[49m\u001b[43m,\u001b[49m\u001b[43m \u001b[49m\u001b[38;5;241;43m*\u001b[39;49m\u001b[43margs\u001b[49m\u001b[43m)\u001b[49m\n\u001b[0;32m    146\u001b[0m \u001b[38;5;66;03m# Make sure the function returns a true scalar\u001b[39;00m\n\u001b[0;32m    147\u001b[0m \u001b[38;5;28;01mif\u001b[39;00m \u001b[38;5;129;01mnot\u001b[39;00m np\u001b[38;5;241m.\u001b[39misscalar(fx):\n",
      "File \u001b[1;32mc:\\Users\\PradoDomercq\\AppData\\Local\\miniconda3\\envs\\utopia_env\\lib\\site-packages\\monaco\\dvars_sensitivity.py:240\u001b[0m, in \u001b[0;36mL_runner\u001b[1;34m(phi, X, Y, verbose)\u001b[0m\n\u001b[0;32m    216\u001b[0m \u001b[38;5;28;01mdef\u001b[39;00m\u001b[38;5;250m \u001b[39m\u001b[38;5;21mL_runner\u001b[39m(phi     : np\u001b[38;5;241m.\u001b[39mndarray,\n\u001b[0;32m    217\u001b[0m              X       : np\u001b[38;5;241m.\u001b[39mndarray,\n\u001b[0;32m    218\u001b[0m              Y       : np\u001b[38;5;241m.\u001b[39mndarray,\n\u001b[0;32m    219\u001b[0m              verbose : \u001b[38;5;28mbool\u001b[39m \u001b[38;5;241m=\u001b[39m \u001b[38;5;28;01mFalse\u001b[39;00m\n\u001b[0;32m    220\u001b[0m              ) \u001b[38;5;241m-\u001b[39m\u001b[38;5;241m>\u001b[39m \u001b[38;5;28mfloat\u001b[39m:\n\u001b[0;32m    221\u001b[0m \u001b[38;5;250m    \u001b[39m\u001b[38;5;124;03m\"\"\"\u001b[39;00m\n\u001b[0;32m    222\u001b[0m \u001b[38;5;124;03m    A wrapper function for calculating the negative log-likelihood cost.\u001b[39;00m\n\u001b[0;32m    223\u001b[0m \n\u001b[1;32m   (...)\u001b[0m\n\u001b[0;32m    238\u001b[0m \u001b[38;5;124;03m        The negative log-likelihood cost.\u001b[39;00m\n\u001b[0;32m    239\u001b[0m \u001b[38;5;124;03m    \"\"\"\u001b[39;00m\n\u001b[1;32m--> 240\u001b[0m     L \u001b[38;5;241m=\u001b[39m \u001b[43mcalc_L\u001b[49m\u001b[43m(\u001b[49m\u001b[43mphi\u001b[49m\u001b[43m,\u001b[49m\u001b[43m \u001b[49m\u001b[43mX\u001b[49m\u001b[43m,\u001b[49m\u001b[43m \u001b[49m\u001b[43mY\u001b[49m\u001b[43m)\u001b[49m\n\u001b[0;32m    241\u001b[0m     vprint(verbose, \u001b[38;5;124mf\u001b[39m\u001b[38;5;124m'\u001b[39m\u001b[38;5;124mL = \u001b[39m\u001b[38;5;132;01m{\u001b[39;00mL\u001b[38;5;132;01m:\u001b[39;00m\u001b[38;5;124m0.4f\u001b[39m\u001b[38;5;132;01m}\u001b[39;00m\u001b[38;5;124m, Φ = \u001b[39m\u001b[38;5;132;01m{\u001b[39;00mphi\u001b[38;5;132;01m}\u001b[39;00m\u001b[38;5;124m'\u001b[39m)\n\u001b[0;32m    242\u001b[0m     \u001b[38;5;28;01mreturn\u001b[39;00m L\n",
      "File \u001b[1;32mc:\\Users\\PradoDomercq\\AppData\\Local\\miniconda3\\envs\\utopia_env\\lib\\site-packages\\monaco\\dvars_sensitivity.py:271\u001b[0m, in \u001b[0;36mcalc_L\u001b[1;34m(phi, X, Y)\u001b[0m\n\u001b[0;32m    269\u001b[0m M \u001b[38;5;241m=\u001b[39m np\u001b[38;5;241m.\u001b[39mones((m, \u001b[38;5;241m1\u001b[39m))\n\u001b[0;32m    270\u001b[0m R \u001b[38;5;241m=\u001b[39m calc_R(phi, X)\n\u001b[1;32m--> 271\u001b[0m Rinv \u001b[38;5;241m=\u001b[39m \u001b[43mnp\u001b[49m\u001b[38;5;241;43m.\u001b[39;49m\u001b[43mlinalg\u001b[49m\u001b[38;5;241;43m.\u001b[39;49m\u001b[43minv\u001b[49m\u001b[43m(\u001b[49m\u001b[43mR\u001b[49m\u001b[43m)\u001b[49m\n\u001b[0;32m    272\u001b[0m Rdet \u001b[38;5;241m=\u001b[39m \u001b[38;5;28mmax\u001b[39m(np\u001b[38;5;241m.\u001b[39mlinalg\u001b[38;5;241m.\u001b[39mdet(R), \u001b[38;5;241m1e-12\u001b[39m)  \u001b[38;5;66;03m# Protect for poor conditioning\u001b[39;00m\n\u001b[0;32m    274\u001b[0m mu \u001b[38;5;241m=\u001b[39m np\u001b[38;5;241m.\u001b[39mlinalg\u001b[38;5;241m.\u001b[39minv(M\u001b[38;5;241m.\u001b[39mT \u001b[38;5;241m@\u001b[39m Rinv \u001b[38;5;241m@\u001b[39m M) \u001b[38;5;241m@\u001b[39m (M\u001b[38;5;241m.\u001b[39mT \u001b[38;5;241m@\u001b[39m Rinv \u001b[38;5;241m@\u001b[39m Y)\n",
      "File \u001b[1;32mc:\\Users\\PradoDomercq\\AppData\\Local\\miniconda3\\envs\\utopia_env\\lib\\site-packages\\numpy\\linalg\\linalg.py:561\u001b[0m, in \u001b[0;36minv\u001b[1;34m(a)\u001b[0m\n\u001b[0;32m    559\u001b[0m signature \u001b[38;5;241m=\u001b[39m \u001b[38;5;124m'\u001b[39m\u001b[38;5;124mD->D\u001b[39m\u001b[38;5;124m'\u001b[39m \u001b[38;5;28;01mif\u001b[39;00m isComplexType(t) \u001b[38;5;28;01melse\u001b[39;00m \u001b[38;5;124m'\u001b[39m\u001b[38;5;124md->d\u001b[39m\u001b[38;5;124m'\u001b[39m\n\u001b[0;32m    560\u001b[0m extobj \u001b[38;5;241m=\u001b[39m get_linalg_error_extobj(_raise_linalgerror_singular)\n\u001b[1;32m--> 561\u001b[0m ainv \u001b[38;5;241m=\u001b[39m \u001b[43m_umath_linalg\u001b[49m\u001b[38;5;241;43m.\u001b[39;49m\u001b[43minv\u001b[49m\u001b[43m(\u001b[49m\u001b[43ma\u001b[49m\u001b[43m,\u001b[49m\u001b[43m \u001b[49m\u001b[43msignature\u001b[49m\u001b[38;5;241;43m=\u001b[39;49m\u001b[43msignature\u001b[49m\u001b[43m,\u001b[49m\u001b[43m \u001b[49m\u001b[43mextobj\u001b[49m\u001b[38;5;241;43m=\u001b[39;49m\u001b[43mextobj\u001b[49m\u001b[43m)\u001b[49m\n\u001b[0;32m    562\u001b[0m \u001b[38;5;28;01mreturn\u001b[39;00m wrap(ainv\u001b[38;5;241m.\u001b[39mastype(result_t, copy\u001b[38;5;241m=\u001b[39m\u001b[38;5;28;01mFalse\u001b[39;00m))\n",
      "File \u001b[1;32mc:\\Users\\PradoDomercq\\AppData\\Local\\miniconda3\\envs\\utopia_env\\lib\\site-packages\\numpy\\linalg\\linalg.py:112\u001b[0m, in \u001b[0;36m_raise_linalgerror_singular\u001b[1;34m(err, flag)\u001b[0m\n\u001b[0;32m    111\u001b[0m \u001b[38;5;28;01mdef\u001b[39;00m\u001b[38;5;250m \u001b[39m\u001b[38;5;21m_raise_linalgerror_singular\u001b[39m(err, flag):\n\u001b[1;32m--> 112\u001b[0m     \u001b[38;5;28;01mraise\u001b[39;00m LinAlgError(\u001b[38;5;124m\"\u001b[39m\u001b[38;5;124mSingular matrix\u001b[39m\u001b[38;5;124m\"\u001b[39m)\n",
      "\u001b[1;31mLinAlgError\u001b[0m: Singular matrix"
     ]
    }
   ],
   "source": [
    "import matplotlib.pyplot as plt\n",
    "\n",
    "for var in sim.outvars:\n",
    "    print(f\"Variable: {var}\")\n",
    "    sim.calcSensitivities(var)\n",
    "    fig, ax = sim.outvars[var].plotSensitivities()\n",
    "\n",
    "    plt.show()"
   ]
  },
  {
   "cell_type": "markdown",
   "id": "ddf1455d",
   "metadata": {},
   "source": [
    "### Plot "
   ]
  },
  {
   "cell_type": "code",
   "execution_count": 19,
   "id": "723a0bdc",
   "metadata": {},
   "outputs": [
    {
     "data": {
      "text/plain": [
       "(<Figure size 640x480 with 3 Axes>,\n",
       " (<Axes: xlabel='MPdensity_kg_m3'>,\n",
       "  <Axes: ylabel='residence_time_number'>,\n",
       "  <Axes: >))"
      ]
     },
     "execution_count": 19,
     "metadata": {},
     "output_type": "execute_result"
    },
    {
     "data": {
      "image/png": "[encoded data removed]",
      "text/plain": [
       "<Figure size 640x480 with 3 Axes>"
      ]
     },
     "metadata": {},
     "output_type": "display_data"
    }
   ],
   "source": [
    "import monaco as mc\n",
    "\n",
    "mc.multi_plot([sim.invars[\"MPdensity_kg_m3\"],sim.outvars[\"residence_time_number\"]],title=\"Overall Residence time in particle number vs density\",cov_plot=True)"
   ]
  },
  {
   "cell_type": "code",
   "execution_count": 12,
   "id": "35575cdd",
   "metadata": {},
   "outputs": [
    {
     "data": {
      "text/plain": [
       "(<Figure size 640x480 with 3 Axes>,\n",
       " (<Axes: xlabel='MPdensity_kg_m3'>,\n",
       "  <Axes: ylabel='C_g_m3_Ocean_Surface_Water'>,\n",
       "  <Axes: >))"
      ]
     },
     "execution_count": 12,
     "metadata": {},
     "output_type": "execute_result"
    },
    {
     "data": {
      "image/png": "[encoded data removed]",
      "text/plain": [
       "<Figure size 640x480 with 3 Axes>"
      ]
     },
     "metadata": {},
     "output_type": "display_data"
    }
   ],
   "source": [
    "\n",
    "mc.multi_plot([sim.invars[\"MPdensity_kg_m3\"],sim.outvars[\"C_g_m3_Ocean_Surface_Water\"]],title=\"Concentration in Ocean Surface (g/m3) vs density\",cov_plot=True)"
   ]
  }
 ],
 "metadata": {
  "kernelspec": {
   "display_name": "utopia_env",
   "language": "python",
   "name": "python3"
  },
  "language_info": {
   "codemirror_mode": {
    "name": "ipython",
    "version": 3
   },
   "file_extension": ".py",
   "mimetype": "text/x-python",
   "name": "python",
   "nbconvert_exporter": "python",
   "pygments_lexer": "ipython3",
   "version": "3.9.22"
  }
 },
 "nbformat": 4,
 "nbformat_minor": 5
}
