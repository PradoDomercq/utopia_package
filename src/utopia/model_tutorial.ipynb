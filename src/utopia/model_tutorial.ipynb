{
 "cells": [
  {
   "cell_type": "markdown",
   "metadata": {},
   "source": [
    "## Notebook: Running UTOPIA Model Step by Step"
   ]
  },
  {
   "cell_type": "markdown",
   "metadata": {},
   "source": [
    "### Import the necessary libraries and the UTOPIA class."
   ]
  },
  {
   "cell_type": "code",
   "execution_count": 4,
   "metadata": {},
   "outputs": [
    {
     "ename": "ModuleNotFoundError",
     "evalue": "No module named 'numpy'",
     "output_type": "error",
     "traceback": [
      "\u001b[1;31m---------------------------------------------------------------------------\u001b[0m",
      "\u001b[1;31mModuleNotFoundError\u001b[0m                       Traceback (most recent call last)",
      "Cell \u001b[1;32mIn[4], line 3\u001b[0m\n\u001b[0;32m      1\u001b[0m \u001b[38;5;28;01mimport\u001b[39;00m\u001b[38;5;250m \u001b[39m\u001b[38;5;21;01mos\u001b[39;00m\n\u001b[0;32m      2\u001b[0m \u001b[38;5;28;01mimport\u001b[39;00m\u001b[38;5;250m \u001b[39m\u001b[38;5;21;01mjson\u001b[39;00m\n\u001b[1;32m----> 3\u001b[0m \u001b[38;5;28;01mfrom\u001b[39;00m\u001b[38;5;250m \u001b[39m\u001b[38;5;21;01mutopia\u001b[39;00m\u001b[38;5;21;01m.\u001b[39;00m\u001b[38;5;21;01msrc\u001b[39;00m\u001b[38;5;21;01m.\u001b[39;00m\u001b[38;5;21;01mutopia\u001b[39;00m\u001b[38;5;250m \u001b[39m\u001b[38;5;28;01mimport\u001b[39;00m utopia  \n",
      "File \u001b[1;32mp:\\Python Scripts\\UTOPIA_package\\utopia\\src\\utopia\\utopia.py:6\u001b[0m\n\u001b[0;32m      4\u001b[0m \u001b[38;5;28;01mfrom\u001b[39;00m\u001b[38;5;250m \u001b[39m\u001b[38;5;21;01mdatetime\u001b[39;00m\u001b[38;5;250m \u001b[39m\u001b[38;5;28;01mimport\u001b[39;00m datetime\n\u001b[0;32m      5\u001b[0m \u001b[38;5;28;01mimport\u001b[39;00m\u001b[38;5;250m \u001b[39m\u001b[38;5;21;01mmath\u001b[39;00m\n\u001b[1;32m----> 6\u001b[0m \u001b[38;5;28;01mimport\u001b[39;00m\u001b[38;5;250m \u001b[39m\u001b[38;5;21;01mnumpy\u001b[39;00m\u001b[38;5;250m \u001b[39m\u001b[38;5;28;01mas\u001b[39;00m\u001b[38;5;250m \u001b[39m\u001b[38;5;21;01mnp\u001b[39;00m\n\u001b[0;32m      7\u001b[0m \u001b[38;5;28;01mfrom\u001b[39;00m\u001b[38;5;250m \u001b[39m\u001b[38;5;21;01mobjects_generation\u001b[39;00m\u001b[38;5;250m \u001b[39m\u001b[38;5;28;01mimport\u001b[39;00m generate_objects\n\u001b[0;32m     10\u001b[0m \u001b[38;5;28;01mclass\u001b[39;00m\u001b[38;5;250m \u001b[39m\u001b[38;5;21;01mutopia\u001b[39;00m():\n",
      "\u001b[1;31mModuleNotFoundError\u001b[0m: No module named 'numpy'"
     ]
    }
   ],
   "source": [
    "import os\n",
    "import json\n",
    "from utopia.src.utopia import utopia  "
   ]
  },
  {
   "cell_type": "markdown",
   "metadata": {},
   "source": [
    "#### Step 1: Load Configuration and Data Files"
   ]
  },
  {
   "cell_type": "code",
   "execution_count": null,
   "metadata": {},
   "outputs": [],
   "source": [
    "\n",
    "# Let's load the default configuration and data from the 'data' folder.\n",
    "config_data = UTOPIA.load_json_file('default_config.json')\n",
    "data_data = UTOPIA.load_json_file('default_data.json')\n"
   ]
  },
  {
   "cell_type": "code",
   "execution_count": null,
   "metadata": {},
   "outputs": [],
   "source": [
    "\n",
    "# Display the loaded config and data to ensure they were loaded correctly.\n",
    "print(\"Loaded Configuration Data:\", config_data)\n",
    "print(\"Loaded Input Data:\", data_data)\n"
   ]
  },
  {
   "cell_type": "markdown",
   "metadata": {},
   "source": [
    "\n",
    "#### Step 2: Initialize the UTOPIA Model with the Loaded Data"
   ]
  },
  {
   "cell_type": "code",
   "execution_count": null,
   "metadata": {},
   "outputs": [],
   "source": [
    "\n",
    "# We now initialize the model by passing the loaded data into the UTOPIA class.\n",
    "model = UTOPIA(config=config_data, data=data_data)\n"
   ]
  },
  {
   "cell_type": "code",
   "execution_count": null,
   "metadata": {},
   "outputs": [],
   "source": [
    "# Display the initialized model's key properties to confirm it's set up correctly.\n",
    "print(\"Model Initialized:\")\n",
    "print(f\"MP Density (kg/m3): {model.MPdensity_kg_m3}\")\n",
    "print(f\"Box Name: {model.boxName}\")\n",
    "print(f\"Compartment Names: {model.compartment_names}\")"
   ]
  },
  {
   "cell_type": "markdown",
   "metadata": {},
   "source": [
    "#### Step 3: Running the Model\n"
   ]
  },
  {
   "cell_type": "markdown",
   "metadata": {},
   "source": [
    "\n",
    "# Here, we can now move to running the model's core logic.\n",
    "# For this, let's assume there is a method 'run_model' or similar in your class.\n",
    "# You would invoke it here, like so (modify according to your actual method name):\n",
    "\n",
    "# model.run_model()  # Uncomment and adapt based on actual method name\n",
    "\n",
    "# Step 4: Output and Results\n",
    "\n",
    "# After running the model, you might want to display the results.\n",
    "# For example, assuming the model returns results as a dictionary or DataFrame:\n",
    "# results = model.get_results()  # Replace with the actual result retrieval method\n",
    "\n",
    "# Let's print the results (this part depends on how your model outputs results).\n",
    "# print(\"Model Results:\", results)\n",
    "\n",
    "# Step 5: Visualize the Results (Optional)\n",
    "\n",
    "# If your model has data for visualization, we can plot the results using libraries like matplotlib.\n",
    "# Example:\n",
    "# import matplotlib.pyplot as plt\n",
    "\n",
    "# plt.plot(results['some_data_column'])  # Replace with actual results data\n",
    "# plt.title(\"Model Results Over Time\")\n",
    "# plt.xlabel(\"Time\")\n",
    "# plt.ylabel(\"Value\")\n",
    "# plt.show()\n",
    "\n",
    "# Step 6: Advanced Configuration (Optional)\n",
    "\n",
    "# Allow users to adjust some configuration parameters if needed. This could be useful if you want to modify some settings during runtime.\n",
    "# For example:\n",
    "# user_config = {\"MPdensity_kg_m3\": 1200, \"boxName\": \"New_Box\"}  # Modify based on user input\n",
    "# model.update_config(user_config)  # Assuming a method for updating configuration\n",
    "\n",
    "# Step 7: Saving the Model Output (Optional)\n",
    "\n",
    "# If you want users to save the results, add a section for that.\n",
    "# Example:\n",
    "# output_file = \"model_output.json\"\n",
    "# with open(output_file, \"w\") as file:\n",
    "#     json.dump(results, file)\n",
    "# print(f\"Results saved to {output_file}\")\n"
   ]
  }
 ],
 "metadata": {
  "kernelspec": {
   "display_name": "utopia",
   "language": "python",
   "name": "python3"
  },
  "language_info": {
   "codemirror_mode": {
    "name": "ipython",
    "version": 3
   },
   "file_extension": ".py",
   "mimetype": "text/x-python",
   "name": "python",
   "nbconvert_exporter": "python",
   "pygments_lexer": "ipython3",
   "version": "3.10.16"
  }
 },
 "nbformat": 4,
 "nbformat_minor": 2
}
