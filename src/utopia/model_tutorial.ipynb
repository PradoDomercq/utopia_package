{
 "cells": [
  {
   "cell_type": "markdown",
   "metadata": {},
   "source": [
    "## Notebook: Running UTOPIA Model Step by Step"
   ]
  },
  {
   "cell_type": "markdown",
   "metadata": {},
   "source": [
    "### Import the necessary libraries and the UTOPIA class."
   ]
  },
  {
   "cell_type": "code",
   "execution_count": 1,
   "metadata": {},
   "outputs": [],
   "source": [
    "import os\n",
    "import json\n",
    "from utopia import utopia  "
   ]
  },
  {
   "cell_type": "markdown",
   "metadata": {},
   "source": [
    "#### Step 1: Load Configuration and Data Files"
   ]
  },
  {
   "cell_type": "code",
   "execution_count": 2,
   "metadata": {},
   "outputs": [],
   "source": [
    "\n",
    "# Load the default configuration and data from the 'data' folder.\n",
    "config_data = utopia.load_json_file(\"data/default_config.json\")\n",
    "data_data = utopia.load_json_file(\"data/default_data.json\")\n"
   ]
  },
  {
   "cell_type": "code",
   "execution_count": 3,
   "metadata": {},
   "outputs": [
    {
     "name": "stdout",
     "output_type": "stream",
     "text": [
      "Loaded Configuration Data: {'big_bin_diameter_um': 5000, 'N_sizeBins': 5, 'vol_algal_cell_m3': 2e-16, 'spm_density_kg_m3': 1388, 'boxName': 'Utopia', 'comp_input_file_name': 'inputs_compartments.csv', 'comp_interactions_file_name': 'compartment_interactions.csv', 'MPforms_list': ['freeMP', 'heterMP', 'biofMP', 'heterBiofMP'], 'solver': 'SteadyState'}\n",
      "Loaded Input Data: {'MPdensity_kg_m3': 980, 'MP_composition': 'PE', 'shape': 'sphere', 'MP_form': 'freeMP', 'FI': 0.5, 't_half_deg_free': 66000, 'heter_deg_factor': 10, 'biof_deg_factor': 0.5, 'factor_deepWater_soilSurface': 10, 'factor_sediment': 100, 't_frag_gen_FreeSurfaceWater': 36.5, 'biof_frag_factor': 2, 'heter_frag_factor': 100, 'emiss_dict_g_s': {'Ocean_Surface_Water': {'a': 0, 'b': 0, 'c': 0, 'd': 0, 'e': 250000}, 'Ocean_Mixed_Water': {'a': 0, 'b': 0, 'c': 0, 'd': 0, 'e': 0}, 'Ocean_Column_Water': {'a': 0, 'b': 0, 'c': 0, 'd': 0, 'e': 0}, 'Coast_Surface_Water': {'a': 0, 'b': 0, 'c': 0, 'd': 0, 'e': 0}, 'Coast_Column_Water': {'a': 0, 'b': 0, 'c': 0, 'd': 0, 'e': 0}, 'Surface_Freshwater': {'a': 0, 'b': 0, 'c': 0, 'd': 0, 'e': 0}, 'Bulk_Freshwater': {'a': 0, 'b': 0, 'c': 0, 'd': 0, 'e': 0}, 'Sediment_Freshwater': {'a': 0, 'b': 0, 'c': 0, 'd': 0, 'e': 0}, 'Sediment_Ocean': {'a': 0, 'b': 0, 'c': 0, 'd': 0, 'e': 0}, 'Sediment_Coast': {'a': 0, 'b': 0, 'c': 0, 'd': 0, 'e': 0}, 'Beaches_Soil_Surface': {'a': 0, 'b': 0, 'c': 0, 'd': 0, 'e': 0}, 'Beaches_Deep_Soil': {'a': 0, 'b': 0, 'c': 0, 'd': 0, 'e': 0}, 'Background_Soil_Surface': {'a': 0, 'b': 0, 'c': 0, 'd': 0, 'e': 0}, 'Background_Soil': {'a': 0, 'b': 0, 'c': 0, 'd': 0, 'e': 0}, 'Impacted_Soil_Surface': {'a': 0, 'b': 0, 'c': 0, 'd': 0, 'e': 0}, 'Impacted_Soil': {'a': 0, 'b': 0, 'c': 0, 'd': 0, 'e': 0}, 'Air': {'a': 0, 'b': 0, 'c': 0, 'd': 0, 'e': 0}}}\n"
     ]
    }
   ],
   "source": [
    "\n",
    "# Display the loaded config and data to ensure they were loaded correctly.\n",
    "print(\"Loaded Configuration Data:\", config_data)\n",
    "print(\"Loaded Input Data:\", data_data)\n"
   ]
  },
  {
   "cell_type": "markdown",
   "metadata": {},
   "source": [
    "\n",
    "#### Step 2: Initialize the UTOPIA Model with the Loaded Data"
   ]
  },
  {
   "cell_type": "code",
   "execution_count": 4,
   "metadata": {},
   "outputs": [],
   "source": [
    "\n",
    "# We now initialize the model by passing the loaded data into the UTOPIA class.\n",
    "model = utopia(config=config_data, data=data_data)\n"
   ]
  },
  {
   "cell_type": "code",
   "execution_count": 5,
   "metadata": {},
   "outputs": [
    {
     "name": "stdout",
     "output_type": "stream",
     "text": [
      "Model: UTOPIA\n",
      "Microplastic Density (kg/m3): 980\n",
      "MP shape:  sphere\n",
      "Emissions made to MP form:  freeMP\n",
      "Fragmentation style: Mixed (F = 0.5)\n",
      "Fragmetation timescale (days):  36.5\n",
      "Discorporation timescale (days):  66000\n",
      "Emissions to Ocean_Surface_Water for size fraction 5000.0 µm: 250000 g/s\n"
     ]
    }
   ],
   "source": [
    "model.summarize()"
   ]
  },
  {
   "cell_type": "markdown",
   "metadata": {},
   "source": [
    "#### Step 3: Running the Model\n"
   ]
  },
  {
   "cell_type": "code",
   "execution_count": 6,
   "metadata": {},
   "outputs": [
    {
     "name": "stdout",
     "output_type": "stream",
     "text": [
      "Running UTOPIA model with configured parameters...\n",
      "Generated model rate constants for model particles.\n",
      "Solved system of ODEs for steady state.\n"
     ]
    }
   ],
   "source": [
    "model.run()  # Run the model to estimate steady state solution for the system.\n"
   ]
  },
  {
   "cell_type": "markdown",
   "metadata": {},
   "source": [
    "\n",
    "#### Step 4: Output and Results\n"
   ]
  },
  {
   "cell_type": "markdown",
   "metadata": {},
   "source": [
    "\n",
    "# After running the model, you might want to display the results.\n",
    "# For example, assuming the model returns results as a dictionary or DataFrame:\n",
    "# results = model.get_results()  # Replace with the actual result retrieval method\n",
    "\n",
    "# Let's print the results (this part depends on how your model outputs results).\n",
    "# print(\"Model Results:\", results)\n",
    "\n",
    "# Step 5: Visualize the Results (Optional)\n",
    "\n",
    "# If your model has data for visualization, we can plot the results using libraries like matplotlib.\n",
    "# Example:\n",
    "# import matplotlib.pyplot as plt\n",
    "\n",
    "# plt.plot(results['some_data_column'])  # Replace with actual results data\n",
    "# plt.title(\"Model Results Over Time\")\n",
    "# plt.xlabel(\"Time\")\n",
    "# plt.ylabel(\"Value\")\n",
    "# plt.show()\n",
    "\n",
    "# Step 6: Advanced Configuration (Optional)\n",
    "\n",
    "# Allow users to adjust some configuration parameters if needed. This could be useful if you want to modify some settings during runtime.\n",
    "# For example:\n",
    "# user_config = {\"MPdensity_kg_m3\": 1200, \"boxName\": \"New_Box\"}  # Modify based on user input\n",
    "# model.update_config(user_config)  # Assuming a method for updating configuration\n",
    "\n",
    "# Step 7: Saving the Model Output (Optional)\n",
    "\n",
    "# If you want users to save the results, add a section for that.\n",
    "# Example:\n",
    "# output_file = \"model_output.json\"\n",
    "# with open(output_file, \"w\") as file:\n",
    "#     json.dump(results, file)\n",
    "# print(f\"Results saved to {output_file}\")\n"
   ]
  }
 ],
 "metadata": {
  "kernelspec": {
   "display_name": "base",
   "language": "python",
   "name": "python3"
  },
  "language_info": {
   "codemirror_mode": {
    "name": "ipython",
    "version": 3
   },
   "file_extension": ".py",
   "mimetype": "text/x-python",
   "name": "python",
   "nbconvert_exporter": "python",
   "pygments_lexer": "ipython3",
   "version": "3.9.21"
  }
 },
 "nbformat": 4,
 "nbformat_minor": 2
}
